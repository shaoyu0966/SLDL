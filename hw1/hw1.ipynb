{
 "cells": [
  {
   "cell_type": "markdown",
   "metadata": {},
   "source": [
    "## Homework 1"
   ]
  },
  {
   "cell_type": "markdown",
   "metadata": {},
   "source": [
    "### Question 1\n",
    "\n",
    "#### Q1.1"
   ]
  },
  {
   "cell_type": "markdown",
   "metadata": {},
   "source": [
    "Import required packages."
   ]
  },
  {
   "cell_type": "code",
   "execution_count": 84,
   "metadata": {},
   "outputs": [],
   "source": [
    "# import sys\n",
    "# !{sys.executable} -m pip install numpy\n",
    "# !{sys.executable} -m pip install sklearn\n",
    "import numpy as np\n",
    "import pickle\n",
    "from sklearn import preprocessing"
   ]
  },
  {
   "cell_type": "markdown",
   "metadata": {},
   "source": [
    "Create `myknn_regressor` class."
   ]
  },
  {
   "cell_type": "code",
   "execution_count": 85,
   "metadata": {},
   "outputs": [],
   "source": [
    "class myknn_regressor():\n",
    "    \n",
    "    def __init__(self, n_neighbors = 10, mean_type = \"equal_weight\"):\n",
    "        \"\"\"\n",
    "        mean_type can be equal_weight or remove_outliers.\n",
    "        equal_weight use the same weight for all neighbors.\n",
    "        remove_outliers remove neighbors out in [Q1 - 1.5 IQR, Q3 + 1.5IQR].\n",
    "        \"\"\"\n",
    "        self.n_neighbors = n_neighbors\n",
    "        self.mean_type = mean_type\n",
    "\n",
    "    def fit(self, x_train, y_train):\n",
    "        self.x_train = x_train\n",
    "        self.y_train = y_train\n",
    "\n",
    "    def predict(self, x_test):\n",
    "        \"\"\"use remove_outliers only if k>=10\"\"\"\n",
    "        \n",
    "        y_pred = []\n",
    "        count = 0\n",
    "        for x in x_test:\n",
    "            dist = np.linalg.norm(x - self.x_train, axis=1)\n",
    "            selected_idx = np.argsort(dist, kind='stable')[:self.n_neighbors]\n",
    "            \n",
    "            if self.mean_type == 'remove_outliers' and self.n_neighbors >= 10:\n",
    "                # remove outliers\n",
    "                q1 = np.quantile(self.y_train[selected_idx], .25)\n",
    "                q3 = np.quantile(self.y_train[selected_idx], .75)\n",
    "                iqr = q3 - q1\n",
    "                def notOutlier(idx):\n",
    "                    return ((self.y_train[idx] >= q1 - 1.5*iqr) and (self.y_train[idx] <= q3 + 1.5*iqr))\n",
    "                selected_idx = list(filter(notOutlier, selected_idx))\n",
    "                 \n",
    "            pred = np.mean(self.y_train[selected_idx])\n",
    "            y_pred.append(pred)\n",
    "        \n",
    "        return np.array(y_pred)\n",
    "                "
   ]
  },
  {
   "cell_type": "markdown",
   "metadata": {},
   "source": [
    "#### Q1.2\n",
    "Load and standardize data."
   ]
  },
  {
   "cell_type": "code",
   "execution_count": 86,
   "metadata": {},
   "outputs": [],
   "source": [
    "with open('msd_data1.pickle', 'rb') as fh1:\n",
    "    msd_data = pickle.load(fh1)\n",
    "\n",
    "xscaler = preprocessing.StandardScaler().fit(msd_data['X_train'])\n",
    "x_train = xscaler.transform(msd_data['X_train'])\n",
    "x_test = xscaler.transform(msd_data['X_test'])\n",
    "y_train = msd_data['Y_train']\n",
    "y_test = msd_data['Y_test']"
   ]
  },
  {
   "cell_type": "markdown",
   "metadata": {},
   "source": [
    "Fit the KNN regressor and predict."
   ]
  },
  {
   "cell_type": "code",
   "execution_count": 87,
   "metadata": {},
   "outputs": [],
   "source": [
    "myknn = myknn_regressor(20, 'equal_weight')\n",
    "myknn.fit(x_train, y_train)\n",
    "y_pred = myknn.predict(x_test)"
   ]
  },
  {
   "cell_type": "markdown",
   "metadata": {},
   "source": [
    "Compute RMSE."
   ]
  },
  {
   "cell_type": "code",
   "execution_count": 88,
   "metadata": {},
   "outputs": [
    {
     "name": "stdout",
     "output_type": "stream",
     "text": [
      "RMSE = 10.25126451549596\n"
     ]
    }
   ],
   "source": [
    "def rmse(ground_truth, prediction):\n",
    "    mse = np.mean((ground_truth - prediction) ** 2)\n",
    "    return np.sqrt(mse)\n",
    "print(f'RMSE = {rmse(y_test, y_pred)}')"
   ]
  },
  {
   "cell_type": "markdown",
   "metadata": {},
   "source": [
    "List the first 20 predictions."
   ]
  },
  {
   "cell_type": "code",
   "execution_count": 89,
   "metadata": {},
   "outputs": [
    {
     "name": "stdout",
     "output_type": "stream",
     "text": [
      "Predictions: [1993.35 1993.8  2000.65 1991.5  1992.8  1998.5  1988.1  1991.65 2002.25\n",
      " 2003.   2000.5  1998.65 1995.55 1997.2  1995.05 1997.4  1992.15 2000.45\n",
      " 2003.2  1995.75]\n"
     ]
    }
   ],
   "source": [
    "np.set_printoptions(precision=2)\n",
    "print(f'Predictions: {y_pred[:20]}')"
   ]
  },
  {
   "cell_type": "markdown",
   "metadata": {},
   "source": [
    "#### Q1.3\n",
    "\n",
    "Data have been load and standardized in the previous section.\n",
    "\n",
    "Fit the KNN model with type 'remove outlier' and predict."
   ]
  },
  {
   "cell_type": "code",
   "execution_count": 90,
   "metadata": {},
   "outputs": [],
   "source": [
    "myknn = myknn_regressor(20, 'remove_outliers')\n",
    "myknn.fit(x_train, y_train)\n",
    "y_pred = myknn.predict(x_test)"
   ]
  },
  {
   "cell_type": "markdown",
   "metadata": {},
   "source": [
    "Compute RMSE."
   ]
  },
  {
   "cell_type": "code",
   "execution_count": 91,
   "metadata": {},
   "outputs": [
    {
     "name": "stdout",
     "output_type": "stream",
     "text": [
      "RMSE = 10.212572466080376\n"
     ]
    }
   ],
   "source": [
    "print(f'RMSE = {rmse(y_test, y_pred)}')"
   ]
  },
  {
   "cell_type": "markdown",
   "metadata": {},
   "source": [
    "List the first 20 predictions."
   ]
  },
  {
   "cell_type": "code",
   "execution_count": 92,
   "metadata": {},
   "outputs": [
    {
     "name": "stdout",
     "output_type": "stream",
     "text": [
      "Predictions: [1993.35 1993.8  2000.65 1992.74 1992.8  2000.   1988.1  1991.65 2002.25\n",
      " 2003.95 2000.5  2000.94 1995.55 1997.2  1998.61 1997.4  1992.15 2003.83\n",
      " 2003.2  1995.75]\n"
     ]
    }
   ],
   "source": [
    "print(f'Predictions: {y_pred[:20]}')"
   ]
  }
 ],
 "metadata": {
  "kernelspec": {
   "display_name": "Python 3",
   "language": "python",
   "name": "python3"
  },
  "language_info": {
   "codemirror_mode": {
    "name": "ipython",
    "version": 3
   },
   "file_extension": ".py",
   "mimetype": "text/x-python",
   "name": "python",
   "nbconvert_exporter": "python",
   "pygments_lexer": "ipython3",
   "version": "3.8.5"
  }
 },
 "nbformat": 4,
 "nbformat_minor": 4
}
