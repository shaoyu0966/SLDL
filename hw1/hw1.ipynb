{
 "cells": [
  {
   "cell_type": "markdown",
   "metadata": {},
   "source": [
    "## Homework 1"
   ]
  },
  {
   "cell_type": "markdown",
   "metadata": {},
   "source": [
    "### Question 1\n",
    "\n",
    "#### Q1.1"
   ]
  },
  {
   "cell_type": "markdown",
   "metadata": {},
   "source": [
    "Import required packages."
   ]
  },
  {
   "cell_type": "code",
   "execution_count": 40,
   "metadata": {},
   "outputs": [],
   "source": [
    "# import sys\n",
    "# !{sys.executable} -m pip install numpy\n",
    "# !{sys.executable} -m pip install sklearn\n",
    "import numpy as np\n",
    "import pickle\n",
    "from sklearn import preprocessing"
   ]
  },
  {
   "cell_type": "markdown",
   "metadata": {},
   "source": [
    "Create `myknn_regressor` class."
   ]
  },
  {
   "cell_type": "code",
   "execution_count": 41,
   "metadata": {},
   "outputs": [],
   "source": [
    "class myknn_regressor():\n",
    "    \n",
    "    def __init__(self, n_neighbors = 10, mean_type = \"equal_weight\"):\n",
    "        \"\"\"\n",
    "        mean_type can be equal_weight or remove_outliers.\n",
    "        equal_weight use the same weight for all neighbors.\n",
    "        remove_outliers remove neighbors out in [Q1 - 1.5 IQR, Q3 + 1.5IQR].\n",
    "        \"\"\"\n",
    "        if n_neighbors <= 0:\n",
    "            print('Error: n_neighbors should be nonneg')\n",
    "            exit(1)\n",
    "        elif mean_type not in ['equal_weight', 'remove_outliers']:\n",
    "            print('Error: mean_type should be one of \\'equal_weight\\' or \\'remove_outliers\\'')\n",
    "            exit(1)\n",
    "        \n",
    "        self.n_neighbors = n_neighbors\n",
    "        self.mean_type = mean_type\n",
    "\n",
    "    def fit(self, x_train, y_train):\n",
    "        self.x_train = x_train\n",
    "        self.y_train = y_train\n",
    "\n",
    "    def predict(self, x_test):\n",
    "        \"\"\"use remove_outliers only if k>=10\"\"\"\n",
    "        \n",
    "        y_pred = []\n",
    "        for x in x_test:\n",
    "            dist = np.linalg.norm(x - self.x_train, axis=1)\n",
    "            selected_idx = np.argsort(dist, kind='stable')[:self.n_neighbors]\n",
    "            \n",
    "            if (self.mean_type == 'remove_outliers') and (self.n_neighbors >= 10):\n",
    "                # remove outliers\n",
    "                q1 = np.quantile(self.y_train[selected_idx], .25)\n",
    "                q3 = np.quantile(self.y_train[selected_idx], .75)\n",
    "                iqr = q3 - q1\n",
    "                def notOutlier(idx):\n",
    "                    return ((self.y_train[idx] >= q1 - 1.5*iqr) and (self.y_train[idx] <= q3 + 1.5*iqr))\n",
    "                selected_idx = list(filter(notOutlier, selected_idx))\n",
    "                 \n",
    "            pred = np.mean(self.y_train[selected_idx])\n",
    "            y_pred.append(pred)\n",
    "        \n",
    "        return np.array(y_pred)\n",
    "                "
   ]
  },
  {
   "cell_type": "markdown",
   "metadata": {},
   "source": [
    "#### Q1.2\n",
    "Load and standardize data."
   ]
  },
  {
   "cell_type": "code",
   "execution_count": 42,
   "metadata": {},
   "outputs": [],
   "source": [
    "with open('msd_data1.pickle', 'rb') as fh1:\n",
    "    msd_data = pickle.load(fh1)\n",
    "\n",
    "xscaler = preprocessing.StandardScaler().fit(msd_data['X_train'])\n",
    "x_train = xscaler.transform(msd_data['X_train'])\n",
    "x_test = xscaler.transform(msd_data['X_test'])\n",
    "y_train = msd_data['Y_train']\n",
    "y_test = msd_data['Y_test']"
   ]
  },
  {
   "cell_type": "markdown",
   "metadata": {},
   "source": [
    "Fit the KNN regressor and predict."
   ]
  },
  {
   "cell_type": "code",
   "execution_count": 43,
   "metadata": {},
   "outputs": [],
   "source": [
    "myknn = myknn_regressor(20, 'equal_weight')\n",
    "myknn.fit(x_train, y_train)\n",
    "y_pred = myknn.predict(x_test)"
   ]
  },
  {
   "cell_type": "markdown",
   "metadata": {},
   "source": [
    "Compute RMSE."
   ]
  },
  {
   "cell_type": "code",
   "execution_count": 44,
   "metadata": {},
   "outputs": [
    {
     "name": "stdout",
     "output_type": "stream",
     "text": [
      "RMSE = 10.25126451549596\n"
     ]
    }
   ],
   "source": [
    "def rmse(ground_truth, prediction):\n",
    "    mse = np.mean((ground_truth - prediction) ** 2)\n",
    "    return np.sqrt(mse)\n",
    "print(f'RMSE = {rmse(y_test, y_pred)}')"
   ]
  },
  {
   "cell_type": "markdown",
   "metadata": {},
   "source": [
    "List the first 20 predictions."
   ]
  },
  {
   "cell_type": "code",
   "execution_count": 45,
   "metadata": {},
   "outputs": [
    {
     "name": "stdout",
     "output_type": "stream",
     "text": [
      "Predictions: [1993.35 1993.8  2000.65 1991.5  1992.8  1998.5  1988.1  1991.65 2002.25\n",
      " 2003.   2000.5  1998.65 1995.55 1997.2  1995.05 1997.4  1992.15 2000.45\n",
      " 2003.2  1995.75]\n"
     ]
    }
   ],
   "source": [
    "np.set_printoptions(precision=2)\n",
    "print(f'Predictions: {y_pred[:20]}')"
   ]
  },
  {
   "cell_type": "markdown",
   "metadata": {},
   "source": [
    "#### Q1.3\n",
    "\n",
    "Data have been load and standardized in the previous section.\n",
    "\n",
    "Fit the KNN model with type 'remove outlier' and predict."
   ]
  },
  {
   "cell_type": "code",
   "execution_count": 46,
   "metadata": {},
   "outputs": [],
   "source": [
    "myknn = myknn_regressor(20, 'remove_outliers')\n",
    "myknn.fit(x_train, y_train)\n",
    "y_pred = myknn.predict(x_test)"
   ]
  },
  {
   "cell_type": "markdown",
   "metadata": {},
   "source": [
    "Compute RMSE."
   ]
  },
  {
   "cell_type": "code",
   "execution_count": 47,
   "metadata": {},
   "outputs": [
    {
     "name": "stdout",
     "output_type": "stream",
     "text": [
      "RMSE = 10.212572466080376\n"
     ]
    }
   ],
   "source": [
    "print(f'RMSE = {rmse(y_test, y_pred)}')"
   ]
  },
  {
   "cell_type": "markdown",
   "metadata": {},
   "source": [
    "List the first 20 predictions."
   ]
  },
  {
   "cell_type": "code",
   "execution_count": 48,
   "metadata": {},
   "outputs": [
    {
     "name": "stdout",
     "output_type": "stream",
     "text": [
      "Predictions: [1993.35 1993.8  2000.65 1992.74 1992.8  2000.   1988.1  1991.65 2002.25\n",
      " 2003.95 2000.5  2000.94 1995.55 1997.2  1998.61 1997.4  1992.15 2003.83\n",
      " 2003.2  1995.75]\n"
     ]
    }
   ],
   "source": [
    "print(f'Predictions: {y_pred[:20]}')"
   ]
  },
  {
   "cell_type": "markdown",
   "metadata": {},
   "source": [
    "### Question 2\n",
    "\n",
    "[Setting 1] KNeighborsRegressor with standardization"
   ]
  },
  {
   "cell_type": "code",
   "execution_count": 49,
   "metadata": {},
   "outputs": [
    {
     "name": "stdout",
     "output_type": "stream",
     "text": [
      "Computing k = 1\n",
      "Computing k = 2\n",
      "Computing k = 3\n",
      "Computing k = 4\n",
      "Computing k = 5\n",
      "Computing k = 10\n",
      "Computing k = 15\n",
      "Computing k = 20\n",
      "Computing k = 25\n",
      "Computing k = 30\n",
      "Computing k = 35\n",
      "Computing k = 40\n",
      "Computing k = 45\n",
      "Computing k = 50\n",
      "Computing k = 55\n",
      "Computing k = 60\n",
      "Computing k = 80\n",
      "Computing k = 100\n",
      "Computing k = 120\n",
      "Computing k = 140\n",
      "Computing k = 160\n",
      "Computing k = 180\n",
      "Computing k = 200\n",
      "[13.911074724837043, 12.068170946750795, 11.389120864846157, 11.1123354880961, 10.894692897614565, 10.425998912973919, 10.318171959828572, 10.25126451549596, 10.23762722509469, 10.215977156359507, 10.205243203546763, 10.204332770527754, 10.207243171822855, 10.206033712139762, 10.208862384446808, 10.21700262724764, 10.231954198429056, 10.247295947386965, 10.264908458982783, 10.287098382403647, 10.317788599090449, 10.330995620176944, 10.351940397014143]\n"
     ]
    }
   ],
   "source": [
    "from sklearn.neighbors import KNeighborsRegressor\n",
    "import matplotlib.pyplot as plt\n",
    "\n",
    "k_settings = [1, 2, 3, 4, 5, 10, 15, 20, 25, 30, 35, 40, 45, 50, 55, 60, 80, 100, 120, 140, 160, 180, 200]\n",
    "\n",
    "# data standardization\n",
    "x_train, y_train = msd_data['X_train'], msd_data['Y_train']\n",
    "x_test, y_test = msd_data['X_test'], msd_data['Y_test']\n",
    "xscaler = preprocessing.StandardScaler().fit(x_train)\n",
    "x_train_stdize = xscaler.transform(x_train)\n",
    "x_test_stdize = xscaler.transform(x_test)\n",
    "\n",
    "# compute rmse under different k\n",
    "kneireg_stdize_rmse = []\n",
    "for k in k_settings:\n",
    "    print(f'Computing k = {k}')\n",
    "    kneireg = KNeighborsRegressor(n_neighbors=k)\n",
    "    kneireg.fit(x_train_stdize, y_train)\n",
    "    y_pred = kneireg.predict(x_test_stdize)\n",
    "    kneireg_stdize_rmse.append(rmse(y_test, y_pred))\n",
    "print(kneireg_stdize_rmse)"
   ]
  },
  {
   "cell_type": "code",
   "execution_count": 50,
   "metadata": {},
   "outputs": [
    {
     "data": {
      "image/png": "[encoded data removed]",
      "text/plain": [
       "<Figure size 432x288 with 1 Axes>"
      ]
     },
     "metadata": {
      "needs_background": "light"
     },
     "output_type": "display_data"
    }
   ],
   "source": [
    "# plot\n",
    "plt.plot(k_settings, kneireg_stdize_rmse)\n",
    "plt.title('KNeighborsRegressor with Standardization')\n",
    "plt.xlabel('k')\n",
    "plt.ylabel('RMSE')\n",
    "plt.show()"
   ]
  },
  {
   "cell_type": "markdown",
   "metadata": {},
   "source": [
    "[Setting 2] KNeighborsRegressor without standardization"
   ]
  },
  {
   "cell_type": "code",
   "execution_count": 51,
   "metadata": {},
   "outputs": [
    {
     "name": "stdout",
     "output_type": "stream",
     "text": [
      "Computing k = 1\n",
      "Computing k = 2\n",
      "Computing k = 3\n",
      "Computing k = 4\n",
      "Computing k = 5\n",
      "Computing k = 10\n",
      "Computing k = 15\n",
      "Computing k = 20\n",
      "Computing k = 25\n",
      "Computing k = 30\n",
      "Computing k = 35\n",
      "Computing k = 40\n",
      "Computing k = 45\n",
      "Computing k = 50\n",
      "Computing k = 55\n",
      "Computing k = 60\n",
      "Computing k = 80\n",
      "Computing k = 100\n",
      "Computing k = 120\n",
      "Computing k = 140\n",
      "Computing k = 160\n",
      "Computing k = 180\n",
      "Computing k = 200\n",
      "[14.923638966418345, 12.777499755429464, 12.075674967716129, 11.767805657810635, 11.466392632384432, 11.07746090040493, 10.888979137947995, 10.797788546734928, 10.79007301797969, 10.75026561256701, 10.717738719772289, 10.714437504678756, 10.698494013475852, 10.69110105960404, 10.682608734124413, 10.672535729098724, 10.662907517124493, 10.67701950452466, 10.683139638996407, 10.687017556442052, 10.691630026202155, 10.69071978380711, 10.698853374700175]\n"
     ]
    }
   ],
   "source": [
    "# compute rmse under different k\n",
    "kneireg_rmse = []\n",
    "for k in k_settings:\n",
    "    print(f'Computing k = {k}')\n",
    "    kneireg = KNeighborsRegressor(n_neighbors=k)\n",
    "    kneireg.fit(x_train, y_train)\n",
    "    y_pred = kneireg.predict(x_test)\n",
    "    kneireg_rmse.append(rmse(y_test, y_pred))\n",
    "print(kneireg_rmse)"
   ]
  },
  {
   "cell_type": "code",
   "execution_count": 52,
   "metadata": {},
   "outputs": [
    {
     "data": {
      "image/png": "[encoded data removed]",
      "text/plain": [
       "<Figure size 432x288 with 1 Axes>"
      ]
     },
     "metadata": {
      "needs_background": "light"
     },
     "output_type": "display_data"
    }
   ],
   "source": [
    "# plot\n",
    "plt.plot(k_settings, kneireg_rmse)\n",
    "plt.title('KNeighborsRegressor without Standardization')\n",
    "plt.xlabel('k')\n",
    "plt.ylabel('RMSE')\n",
    "plt.show()"
   ]
  },
  {
   "cell_type": "markdown",
   "metadata": {},
   "source": [
    "[Setting 3] Myknn_regressor(remove_outliers) with standardization"
   ]
  },
  {
   "cell_type": "code",
   "execution_count": 53,
   "metadata": {},
   "outputs": [
    {
     "name": "stdout",
     "output_type": "stream",
     "text": [
      "Computing k = 1\n",
      "Computing k = 2\n",
      "Computing k = 3\n",
      "Computing k = 4\n",
      "Computing k = 5\n",
      "Computing k = 10\n",
      "Computing k = 15\n",
      "Computing k = 20\n",
      "Computing k = 25\n",
      "Computing k = 30\n",
      "Computing k = 35\n",
      "Computing k = 40\n",
      "Computing k = 45\n",
      "Computing k = 50\n",
      "Computing k = 55\n",
      "Computing k = 60\n",
      "Computing k = 80\n",
      "Computing k = 100\n",
      "Computing k = 120\n",
      "Computing k = 140\n",
      "Computing k = 160\n",
      "Computing k = 180\n",
      "Computing k = 200\n",
      "[13.911074724837043, 12.068170946750795, 11.389120864846157, 11.1123354880961, 10.894692897614565, 10.468549209697088, 10.293424167991525, 10.212572466080376, 10.19147537897133, 10.132105705172414, 10.109608004792985, 10.093231539122922, 10.080018891479627, 10.08078333324933, 10.059767600751963, 10.073857809066583, 10.063683549276588, 10.064917276737452, 10.067237203620246, 10.090646192390137, 10.115316675702928, 10.124987056716318, 10.146220720227745]\n"
     ]
    }
   ],
   "source": [
    "# compute rmse under different k\n",
    "myknn_rmse = []\n",
    "for k in k_settings:\n",
    "    print(f'Computing k = {k}')\n",
    "    myknn = myknn_regressor(n_neighbors=k, mean_type='remove_outliers')\n",
    "    myknn.fit(x_train_stdize, y_train)\n",
    "    y_pred = myknn.predict(x_test_stdize)\n",
    "    myknn_rmse.append(rmse(y_test, y_pred))\n",
    "print(myknn_rmse)"
   ]
  },
  {
   "cell_type": "code",
   "execution_count": 54,
   "metadata": {},
   "outputs": [
    {
     "data": {
      "image/png": "[encoded data removed]",
      "text/plain": [
       "<Figure size 432x288 with 1 Axes>"
      ]
     },
     "metadata": {
      "needs_background": "light"
     },
     "output_type": "display_data"
    }
   ],
   "source": [
    "# plot\n",
    "plt.plot(k_settings, myknn_rmse)\n",
    "plt.title('MyKNN(remove_outliers) with Standardization')\n",
    "plt.xlabel('k')\n",
    "plt.ylabel('RMSE')\n",
    "plt.show()"
   ]
  },
  {
   "cell_type": "markdown",
   "metadata": {},
   "source": [
    "Plot the three curves all together."
   ]
  },
  {
   "cell_type": "code",
   "execution_count": 55,
   "metadata": {},
   "outputs": [
    {
     "data": {
      "image/png": "[encoded data removed]",
      "text/plain": [
       "<Figure size 432x288 with 1 Axes>"
      ]
     },
     "metadata": {
      "needs_background": "light"
     },
     "output_type": "display_data"
    }
   ],
   "source": [
    "plt.plot(k_settings, kneireg_stdize_rmse, label='KNeighbor (standardized)')\n",
    "plt.plot(k_settings, kneireg_rmse, label='KNeighbor (not standardized)')\n",
    "plt.plot(k_settings, myknn_rmse, label='myKNN (remove outlier, standardized)')\n",
    "plt.title('MyKNN(remove_outliers) with Standarization')\n",
    "plt.xlabel('k')\n",
    "plt.ylabel('RMSE')\n",
    "plt.legend()\n",
    "plt.show()"
   ]
  },
  {
   "cell_type": "markdown",
   "metadata": {},
   "source": [
    "#### Discussion\n",
    "From the figure above, we can see that the only setting without standardizing feature values (the second setting) results in larger RMSE. Moreover, removing outliers seems to be effective when dealing with standardized data in this dataset."
   ]
  }
 ],
 "metadata": {
  "kernelspec": {
   "display_name": "Python 3",
   "language": "python",
   "name": "python3"
  },
  "language_info": {
   "codemirror_mode": {
    "name": "ipython",
    "version": 3
   },
   "file_extension": ".py",
   "mimetype": "text/x-python",
   "name": "python",
   "nbconvert_exporter": "python",
   "pygments_lexer": "ipython3",
   "version": "3.8.5"
  }
 },
 "nbformat": 4,
 "nbformat_minor": 4
}
