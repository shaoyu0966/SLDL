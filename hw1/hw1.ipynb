{
 "cells": [
  {
   "cell_type": "markdown",
   "metadata": {},
   "source": [
    "# Homework 1"
   ]
  },
  {
   "cell_type": "markdown",
   "metadata": {},
   "source": [
    "## Question 1\n",
    "\n",
    "### Q1.1"
   ]
  },
  {
   "cell_type": "markdown",
   "metadata": {},
   "source": [
    "Import required packages."
   ]
  },
  {
   "cell_type": "code",
   "execution_count": 16,
   "metadata": {},
   "outputs": [],
   "source": [
    "# import sys\n",
    "# !{sys.executable} -m pip install numpy\n",
    "# !{sys.executable} -m pip install sklearn\n",
    "import numpy as np\n",
    "import pickle\n",
    "from sklearn import preprocessing"
   ]
  },
  {
   "cell_type": "markdown",
   "metadata": {},
   "source": [
    "Create `myknn_regressor` class."
   ]
  },
  {
   "cell_type": "code",
   "execution_count": 17,
   "metadata": {},
   "outputs": [],
   "source": [
    "class myknn_regressor():\n",
    "    \n",
    "    def __init__(self, n_neighbors = 10, mean_type = \"equal_weight\"):\n",
    "        \"\"\"\n",
    "        mean_type can be equal_weight or remove_outliers.\n",
    "        equal_weight use the same weight for all neighbors.\n",
    "        remove_outliers remove neighbors out in [Q1 - 1.5 IQR, Q3 + 1.5IQR].\n",
    "        \"\"\"\n",
    "        if n_neighbors <= 0:\n",
    "            print('Error: n_neighbors should be a positive integer')\n",
    "            exit(1)\n",
    "        elif mean_type not in ['equal_weight', 'remove_outliers']:\n",
    "            print('Error: mean_type should be one of \\'equal_weight\\' or \\'remove_outliers\\'')\n",
    "            exit(1)\n",
    "        \n",
    "        self.n_neighbors = n_neighbors\n",
    "        self.mean_type = mean_type if n_neighbors >= 10 else 'equal_weight'\n",
    "\n",
    "    def fit(self, x_train, y_train):\n",
    "        self.x_train = x_train.copy()\n",
    "        self.y_train = y_train.copy()\n",
    "\n",
    "    def predict(self, x_test):\n",
    "        \n",
    "        y_pred = []\n",
    "        for x in x_test:\n",
    "            dist = np.linalg.norm(x - self.x_train, axis=1)\n",
    "            selected_idx = np.argsort(dist, kind='stable')[:self.n_neighbors]\n",
    "            \n",
    "            if self.mean_type == 'remove_outliers':\n",
    "                # remove outliers\n",
    "                q1 = np.quantile(self.y_train[selected_idx], .25)\n",
    "                q3 = np.quantile(self.y_train[selected_idx], .75)\n",
    "                iqr = q3 - q1\n",
    "                def notOutlier(idx):\n",
    "                    return ((self.y_train[idx] >= q1 - 1.5*iqr) and (self.y_train[idx] <= q3 + 1.5*iqr))\n",
    "                selected_idx = list(filter(notOutlier, selected_idx))\n",
    "                 \n",
    "            pred = np.mean(self.y_train[selected_idx])\n",
    "            y_pred.append(pred)\n",
    "        \n",
    "        return np.array(y_pred)\n",
    "                "
   ]
  },
  {
   "cell_type": "markdown",
   "metadata": {},
   "source": [
    "### Q1.2\n",
    "Load and standardize data."
   ]
  },
  {
   "cell_type": "code",
   "execution_count": 18,
   "metadata": {},
   "outputs": [],
   "source": [
    "with open('msd_data1.pickle', 'rb') as fh1:\n",
    "    msd_data = pickle.load(fh1)\n",
    "\n",
    "xscaler = preprocessing.StandardScaler().fit(msd_data['X_train'])\n",
    "x_train = xscaler.transform(msd_data['X_train'])\n",
    "x_test = xscaler.transform(msd_data['X_test'])\n",
    "y_train = msd_data['Y_train']\n",
    "y_test = msd_data['Y_test']"
   ]
  },
  {
   "cell_type": "markdown",
   "metadata": {},
   "source": [
    "Fit the KNN regressor and predict."
   ]
  },
  {
   "cell_type": "code",
   "execution_count": 19,
   "metadata": {},
   "outputs": [],
   "source": [
    "myknn = myknn_regressor(20, 'equal_weight')\n",
    "myknn.fit(x_train, y_train)\n",
    "y_pred = myknn.predict(x_test)"
   ]
  },
  {
   "cell_type": "markdown",
   "metadata": {},
   "source": [
    "Compute RMSE."
   ]
  },
  {
   "cell_type": "code",
   "execution_count": 20,
   "metadata": {},
   "outputs": [
    {
     "name": "stdout",
     "output_type": "stream",
     "text": [
      "RMSE = 10.25126451549596\n"
     ]
    }
   ],
   "source": [
    "def rmse(ground_truth, prediction):\n",
    "    mse = np.mean((ground_truth - prediction) ** 2)\n",
    "    return np.sqrt(mse)\n",
    "print(f'RMSE = {rmse(y_test, y_pred)}')"
   ]
  },
  {
   "cell_type": "markdown",
   "metadata": {},
   "source": [
    "List the first 20 predictions."
   ]
  },
  {
   "cell_type": "code",
   "execution_count": 21,
   "metadata": {},
   "outputs": [
    {
     "name": "stdout",
     "output_type": "stream",
     "text": [
      "Predictions: [1993.35 1993.8  2000.65 1991.5  1992.8  1998.5  1988.1  1991.65 2002.25\n",
      " 2003.   2000.5  1998.65 1995.55 1997.2  1995.05 1997.4  1992.15 2000.45\n",
      " 2003.2  1995.75]\n"
     ]
    }
   ],
   "source": [
    "np.set_printoptions(precision=2)\n",
    "print(f'Predictions: {y_pred[:20]}')"
   ]
  },
  {
   "cell_type": "markdown",
   "metadata": {},
   "source": [
    "### Q1.3\n",
    "\n",
    "Data have been load and standardized in the previous section.\n",
    "\n",
    "Fit the KNN model with type 'remove outlier' and predict."
   ]
  },
  {
   "cell_type": "code",
   "execution_count": 22,
   "metadata": {},
   "outputs": [],
   "source": [
    "myknn = myknn_regressor(20, 'remove_outliers')\n",
    "myknn.fit(x_train, y_train)\n",
    "y_pred = myknn.predict(x_test)"
   ]
  },
  {
   "cell_type": "markdown",
   "metadata": {},
   "source": [
    "Compute RMSE."
   ]
  },
  {
   "cell_type": "code",
   "execution_count": 23,
   "metadata": {},
   "outputs": [
    {
     "name": "stdout",
     "output_type": "stream",
     "text": [
      "RMSE = 10.212572466080376\n"
     ]
    }
   ],
   "source": [
    "print(f'RMSE = {rmse(y_test, y_pred)}')"
   ]
  },
  {
   "cell_type": "markdown",
   "metadata": {},
   "source": [
    "List the first 20 predictions."
   ]
  },
  {
   "cell_type": "code",
   "execution_count": 24,
   "metadata": {},
   "outputs": [
    {
     "name": "stdout",
     "output_type": "stream",
     "text": [
      "Predictions: [1993.35 1993.8  2000.65 1992.74 1992.8  2000.   1988.1  1991.65 2002.25\n",
      " 2003.95 2000.5  2000.94 1995.55 1997.2  1998.61 1997.4  1992.15 2003.83\n",
      " 2003.2  1995.75]\n"
     ]
    }
   ],
   "source": [
    "print(f'Predictions: {y_pred[:20]}')"
   ]
  },
  {
   "cell_type": "markdown",
   "metadata": {},
   "source": [
    "## Question 2\n",
    "\n",
    "[Setting 1] KNeighborsRegressor with standardization"
   ]
  },
  {
   "cell_type": "code",
   "execution_count": 25,
   "metadata": {},
   "outputs": [
    {
     "name": "stdout",
     "output_type": "stream",
     "text": [
      "Computing k = 1\n",
      "Computing k = 2\n",
      "Computing k = 3\n",
      "Computing k = 4\n",
      "Computing k = 5\n",
      "Computing k = 10\n",
      "Computing k = 15\n",
      "Computing k = 20\n",
      "Computing k = 25\n",
      "Computing k = 30\n",
      "Computing k = 35\n",
      "Computing k = 40\n",
      "Computing k = 45\n",
      "Computing k = 50\n",
      "Computing k = 55\n",
      "Computing k = 60\n",
      "Computing k = 80\n",
      "Computing k = 100\n",
      "Computing k = 120\n",
      "Computing k = 140\n",
      "Computing k = 160\n",
      "Computing k = 180\n",
      "Computing k = 200\n",
      "[13.911074724837043, 12.068170946750795, 11.389120864846157, 11.1123354880961, 10.894692897614565, 10.425998912973919, 10.318171959828572, 10.25126451549596, 10.23762722509469, 10.215977156359507, 10.205243203546763, 10.204332770527754, 10.207243171822855, 10.206033712139762, 10.208862384446808, 10.21700262724764, 10.231954198429056, 10.247295947386965, 10.264908458982783, 10.287098382403647, 10.317788599090449, 10.330995620176944, 10.351940397014143]\n"
     ]
    }
   ],
   "source": [
    "from sklearn.neighbors import KNeighborsRegressor\n",
    "import matplotlib.pyplot as plt\n",
    "\n",
    "k_settings = [1, 2, 3, 4, 5, 10, 15, 20, 25, 30, 35, 40, 45, 50, 55, 60, 80, 100, 120, 140, 160, 180, 200]\n",
    "\n",
    "# data standardization\n",
    "x_train, y_train = msd_data['X_train'], msd_data['Y_train']\n",
    "x_test, y_test = msd_data['X_test'], msd_data['Y_test']\n",
    "xscaler = preprocessing.StandardScaler().fit(x_train)\n",
    "x_train_stdize = xscaler.transform(x_train)\n",
    "x_test_stdize = xscaler.transform(x_test)\n",
    "\n",
    "# compute rmse under different k\n",
    "kneireg_stdize_rmse = []\n",
    "for k in k_settings:\n",
    "    print(f'Computing k = {k}')\n",
    "    kneireg = KNeighborsRegressor(n_neighbors=k)\n",
    "    kneireg.fit(x_train_stdize, y_train)\n",
    "    y_pred = kneireg.predict(x_test_stdize)\n",
    "    kneireg_stdize_rmse.append(rmse(y_test, y_pred))\n",
    "print(kneireg_stdize_rmse)"
   ]
  },
  {
   "cell_type": "code",
   "execution_count": 26,
   "metadata": {},
   "outputs": [
    {
     "data": {
      "image/png": "[encoded data removed]",
      "text/plain": [
       "<Figure size 432x288 with 1 Axes>"
      ]
     },
     "metadata": {
      "needs_background": "light"
     },
     "output_type": "display_data"
    }
   ],
   "source": [
    "# plot\n",
    "plt.plot(k_settings, kneireg_stdize_rmse, color='b')\n",
    "plt.title('KNeighborsRegressor with Standardization')\n",
    "plt.xlabel('k')\n",
    "plt.ylabel('RMSE')\n",
    "plt.show()"
   ]
  },
  {
   "cell_type": "markdown",
   "metadata": {},
   "source": [
    "[Setting 2] KNeighborsRegressor without standardization"
   ]
  },
  {
   "cell_type": "code",
   "execution_count": 27,
   "metadata": {},
   "outputs": [
    {
     "name": "stdout",
     "output_type": "stream",
     "text": [
      "Computing k = 1\n",
      "Computing k = 2\n",
      "Computing k = 3\n",
      "Computing k = 4\n",
      "Computing k = 5\n",
      "Computing k = 10\n",
      "Computing k = 15\n",
      "Computing k = 20\n",
      "Computing k = 25\n",
      "Computing k = 30\n",
      "Computing k = 35\n",
      "Computing k = 40\n",
      "Computing k = 45\n",
      "Computing k = 50\n",
      "Computing k = 55\n",
      "Computing k = 60\n",
      "Computing k = 80\n",
      "Computing k = 100\n",
      "Computing k = 120\n",
      "Computing k = 140\n",
      "Computing k = 160\n",
      "Computing k = 180\n",
      "Computing k = 200\n",
      "[14.923638966418345, 12.777499755429464, 12.075674967716129, 11.767805657810635, 11.466392632384432, 11.07746090040493, 10.888979137947995, 10.797788546734928, 10.79007301797969, 10.75026561256701, 10.717738719772289, 10.714437504678756, 10.698494013475852, 10.69110105960404, 10.682608734124413, 10.672535729098724, 10.662907517124493, 10.67701950452466, 10.683139638996407, 10.687017556442052, 10.691630026202155, 10.69071978380711, 10.698853374700175]\n"
     ]
    }
   ],
   "source": [
    "# compute rmse under different k\n",
    "kneireg_rmse = []\n",
    "for k in k_settings:\n",
    "    print(f'Computing k = {k}')\n",
    "    kneireg = KNeighborsRegressor(n_neighbors=k)\n",
    "    kneireg.fit(x_train, y_train)\n",
    "    y_pred = kneireg.predict(x_test)\n",
    "    kneireg_rmse.append(rmse(y_test, y_pred))\n",
    "print(kneireg_rmse)"
   ]
  },
  {
   "cell_type": "code",
   "execution_count": 29,
   "metadata": {},
   "outputs": [
    {
     "data": {
      "image/png": "[encoded data removed]",
      "text/plain": [
       "<Figure size 432x288 with 1 Axes>"
      ]
     },
     "metadata": {
      "needs_background": "light"
     },
     "output_type": "display_data"
    }
   ],
   "source": [
    "# plot\n",
    "plt.plot(k_settings, kneireg_rmse, color='g')\n",
    "plt.title('KNeighborsRegressor without Standardization')\n",
    "plt.xlabel('k')\n",
    "plt.ylabel('RMSE')\n",
    "plt.show()"
   ]
  },
  {
   "cell_type": "markdown",
   "metadata": {},
   "source": [
    "[Setting 3] Myknn_regressor(remove_outliers) with standardization"
   ]
  },
  {
   "cell_type": "code",
   "execution_count": 30,
   "metadata": {},
   "outputs": [
    {
     "name": "stdout",
     "output_type": "stream",
     "text": [
      "Computing k = 1\n",
      "Computing k = 2\n",
      "Computing k = 3\n",
      "Computing k = 4\n",
      "Computing k = 5\n",
      "Computing k = 10\n",
      "Computing k = 15\n",
      "Computing k = 20\n",
      "Computing k = 25\n",
      "Computing k = 30\n",
      "Computing k = 35\n",
      "Computing k = 40\n",
      "Computing k = 45\n",
      "Computing k = 50\n",
      "Computing k = 55\n",
      "Computing k = 60\n",
      "Computing k = 80\n",
      "Computing k = 100\n",
      "Computing k = 120\n",
      "Computing k = 140\n",
      "Computing k = 160\n",
      "Computing k = 180\n",
      "Computing k = 200\n",
      "[13.911074724837043, 12.068170946750795, 11.389120864846157, 11.1123354880961, 10.894692897614565, 10.468549209697088, 10.293424167991525, 10.212572466080376, 10.19147537897133, 10.132105705172414, 10.109608004792985, 10.093231539122922, 10.080018891479627, 10.08078333324933, 10.059767600751963, 10.073857809066583, 10.063683549276588, 10.064917276737452, 10.067237203620246, 10.090646192390137, 10.115316675702928, 10.124987056716318, 10.146220720227745]\n"
     ]
    }
   ],
   "source": [
    "# compute rmse under different k\n",
    "myknn_rmse = []\n",
    "for k in k_settings:\n",
    "    print(f'Computing k = {k}')\n",
    "    myknn = myknn_regressor(n_neighbors=k, mean_type='remove_outliers')\n",
    "    myknn.fit(x_train_stdize, y_train)\n",
    "    y_pred = myknn.predict(x_test_stdize)\n",
    "    myknn_rmse.append(rmse(y_test, y_pred))\n",
    "print(myknn_rmse)"
   ]
  },
  {
   "cell_type": "code",
   "execution_count": 32,
   "metadata": {},
   "outputs": [
    {
     "data": {
      "image/png": "[encoded data removed]",
      "text/plain": [
       "<Figure size 432x288 with 1 Axes>"
      ]
     },
     "metadata": {
      "needs_background": "light"
     },
     "output_type": "display_data"
    }
   ],
   "source": [
    "# plot\n",
    "plt.plot(k_settings, myknn_rmse, color='r')\n",
    "plt.title('MyKNN(remove_outliers) with Standardization')\n",
    "plt.xlabel('k')\n",
    "plt.ylabel('RMSE')\n",
    "plt.show()"
   ]
  },
  {
   "cell_type": "markdown",
   "metadata": {},
   "source": [
    "Plot the three curves all together."
   ]
  },
  {
   "cell_type": "code",
   "execution_count": 33,
   "metadata": {},
   "outputs": [
    {
     "data": {
      "image/png": "[encoded data removed]",
      "text/plain": [
       "<Figure size 432x288 with 1 Axes>"
      ]
     },
     "metadata": {
      "needs_background": "light"
     },
     "output_type": "display_data"
    }
   ],
   "source": [
    "plt.plot(k_settings, kneireg_stdize_rmse, label='KNeighbor (standardized)', color='g')\n",
    "plt.plot(k_settings, kneireg_rmse, label='KNeighbor (not standardized)', color='b')\n",
    "plt.plot(k_settings, myknn_rmse, label='myKNN (remove outlier, standardized)', color='r')\n",
    "plt.title('K V.S. RMSE')\n",
    "plt.xlabel('k')\n",
    "plt.ylabel('RMSE')\n",
    "plt.legend()\n",
    "plt.show()"
   ]
  },
  {
   "cell_type": "markdown",
   "metadata": {},
   "source": [
    "#### Discussion\n",
    "From the figure above, we can see that the only setting without standardizing feature values (the second setting) results in larger RMSE. Moreover, removing outliers seems to be effective in minimizing RMSE when dealing with standardized data in this dataset."
   ]
  },
  {
   "cell_type": "markdown",
   "metadata": {},
   "source": [
    "## Question 3\n",
    "### Q3.1 Coordinate Descent with Soft Thresholding Formula\n",
    "\n",
    "minimize $L = \\frac{1}{2n} \\sum_{i=1}^n (y_i - \\mathbf{w}^T \\mathbf{x}_i - w_0)^2 + \\lambda [\\sum_{j=1}^{M} |w_j|]$\n",
    "\n",
    "First, we consider $w_0$.\n",
    "\n",
    "$$\n",
    "\\begin{align}\n",
    "\\frac{\\partial L}{\\partial w_0}\n",
    "&= \\frac{-1}{n} \\sum_{i=1}^n (y_i - \\mathbf{w}^T \\mathbf{x}_i - w_0) \\\\\n",
    "&= \\frac{-1}{n} \\sum_{i=1}^n (y_i - \\mathbf{w}^T \\mathbf{x}_i) + w_0 \\\\\n",
    "&= 0 \\\\\n",
    "w_0 &= \\frac{1}{n} \\sum_{i=1}^n (y_i - \\mathbf{w}^T \\mathbf{x}_i)\n",
    "\\end{align}\n",
    "$$\n",
    "\n",
    "\n",
    "Then, consider $w_j$, where $j=1,2,...,M$.\n",
    "\n",
    "$$\n",
    "\\begin{align}\n",
    "\\frac{\\partial L}{\\partial w_j}\n",
    "&= \\frac{1}{n} \\sum_{i=1}^n(y_i - \\mathbf{w}^T \\mathbf{x}_i - w_0)(-x_{i, j}) + \\lambda sgn(w_j) \\\\\n",
    "&= \\frac{1}{n} \\sum_{i=1}^n(y_i - \\mathbf{w}^T_{-j} \\mathbf{x}_{i,-j} - w_{j} x_{i,j} - w_0)(-x_{i, j}) + \\lambda sgn(w_j) \\\\\n",
    "&= \\frac{1}{n} \\sum_{i=1}^n(y_i - \\mathbf{w}^T_{-j} \\mathbf{x}_{i,-j} - w_0)(-x_{i, j}) + \\frac{w_j}{n}\\sum_{i=1}^n x_{i,j}^2 + \\lambda sgn(w_j) \\\\\n",
    "&= 0\n",
    "\\end{align}\n",
    "$$\n",
    "\n",
    "$$\n",
    "\\begin{align}\n",
    "w_j\n",
    "&= \\frac{n[\\frac{-1}{n} \\sum_{i=1}^n(y_i - \\mathbf{w}^T_{-j} \\mathbf{x}_{i,-j} - w_0)(-x_{i, j}) - \\lambda sgn(w_j)]}{\\sum_{i=1}^n x_{i,j}^2} \\\\\n",
    "&= \\frac{\\sum_{i=1}^n(y_i - \\mathbf{w}^T_{-j} \\mathbf{x}_{i,-j} - w_0)x_{i, j} - n \\lambda sgn(w_j)}{\\sum_{i=1}^n x_{i,j}^2} \\\\\n",
    "&=\n",
    "    \\begin{cases}\n",
    "    \\frac{\\sum_{i=1}^n(y_i - \\mathbf{w}^T_{-j} \\mathbf{x}_{i,-j} - w_0)x_{i, j} - n \\lambda}{\\sum_{i=1}^n x_{i,j}^2} &&\\text{if } \\frac{\\sum_{i=1}^n(y_i - \\mathbf{w}^T_{-j} \\mathbf{x}_{i,-j} - w_0)x_{i, j} - n \\lambda}{\\sum_{i=1}^n x_{i,j}^2} > 0 \\\\\n",
    "    \\frac{\\sum_{i=1}^n(y_i - \\mathbf{w}^T_{-j} \\mathbf{x}_{i,-j} - w_0)x_{i, j} + n \\lambda}{\\sum_{i=1}^n x_{i,j}^2} &&\\text{if } \\frac{\\sum_{i=1}^n(y_i - \\mathbf{w}^T_{-j} \\mathbf{x}_{i,-j} - w_0)x_{i, j} + n \\lambda}{\\sum_{i=1}^n x_{i,j}^2} < 0 \\\\\n",
    "    0 &&\\text{otherwise}\n",
    "    \\end{cases}\n",
    "\\end{align}\n",
    "$$"
   ]
  },
  {
   "cell_type": "markdown",
   "metadata": {},
   "source": [
    "### Q3.2 MyLasso Implementation\n",
    "\n",
    "Before implementing `mylasso`, first calculate $\\mathbf w$ when regularizing the bias term.\n",
    "\n",
    "When we regularize the bias term, the loss function becomes $L = \\frac{1}{2n} \\sum_{i=1}^n (y_i - \\mathbf{w}^T \\mathbf{x}_i - w_0)^2 + \\lambda [|w_0| + \\sum_{j=1}^{M} |w_j|]$.\n",
    "\n",
    "$w_j, j=1,2,...,M$, stays the same as we calculated in Q3.1. However, $w_0$ becomes the follows.\n",
    "\n",
    "$$\n",
    "\\begin{align}\n",
    "\\frac{\\partial L}{\\partial w_0}\n",
    "&= \\frac{-1}{n} \\sum_{i=1}^n (y_i - \\mathbf{w}^T \\mathbf{x}_i - w_0) + \\lambda sgn(w_0) \\\\\n",
    "&= \\frac{-1}{n} \\sum_{i=1}^n (y_i - \\mathbf{w}^T \\mathbf{x}_i) + w_0 + \\lambda sgn(w_0) \\\\\n",
    "&= 0\n",
    "\\end{align}\n",
    "$$\n",
    "\n",
    "$$\n",
    "\\begin{align}\n",
    "w_0\n",
    "&= \\frac{1}{n} \\sum_{i=1}^n (y_i - \\mathbf{w}^T \\mathbf{x}_i) - \\lambda sgn(w_0) \\\\\n",
    "&=\n",
    "\\begin{cases}\n",
    "\\frac{1}{n} \\sum_{i=1}^n (y_i - \\mathbf{w}^T \\mathbf{x}_i) - \\lambda &&\\text{if }\\frac{1}{n} \\sum_{i=1}^n (y_i - \\mathbf{w}^T \\mathbf{x}_i) - \\lambda > 0 \\\\\n",
    "\\frac{1}{n} \\sum_{i=1}^n (y_i - \\mathbf{w}^T \\mathbf{x}_i) + \\lambda &&\\text{if }\\frac{1}{n} \\sum_{i=1}^n (y_i - \\mathbf{w}^T \\mathbf{x}_i) + \\lambda < 0 \\\\\n",
    "0 &&\\text{otherwise}\n",
    "\\end{cases}\n",
    "\\end{align}\n",
    "$$\n",
    "\n",
    "Note that $x_{i, 0}=1$ for all $i=1,2,...,n$. Therefore $\\sum_{i=1}^n x_{i,0}^2=n$.\n",
    "\n",
    "The resulting $w_0$ fits the closed form of $w_j$ we calculated in Q3.1."
   ]
  },
  {
   "cell_type": "code",
   "execution_count": 237,
   "metadata": {},
   "outputs": [],
   "source": [
    "import numpy as np\n",
    "\n",
    "class mylasso():\n",
    "    \n",
    "    def __init__(self, lamcoef = 0.1, max_iter=1000, tol=1e-6, const_regu = False):\n",
    "        \"\"\"\n",
    "        lamcoef: the regularization coefficient\n",
    "        max_iter: maximum number of iteration for model training\n",
    "        tol: tolerance for the stopping criteria for model training\n",
    "        const_regu: whether the constant term should be regularized, default to False\n",
    "        \"\"\"\n",
    "        self.lamcoef = lamcoef\n",
    "        self.max_iter = max_iter\n",
    "        self.tol = tol\n",
    "        self.const_regu = const_regu\n",
    "\n",
    "    def fit(self, x_train, y_train, winit = \"ridge\", keep_traindata = True, verbose = False):\n",
    "        \"\"\"\n",
    "        Fit a Lasso model\n",
    "        x_train: a numpy matrix that contains training features\n",
    "        y_train: a numpy matrix that contains the label\n",
    "        winit: how weights are initialized, default to \"ridge\", ridge regression\n",
    "        keep_traindata: whether the object is going to keep training data after the training process completed\n",
    "        verbose: output a lot of message\n",
    "        \"\"\"\n",
    "        \n",
    "        # keep training data, add a column of all 1s\n",
    "        if keep_traindata:\n",
    "            self.x_train = x_train.copy()\n",
    "            self.y_train = y_train.copy()\n",
    "        x_train, y_train = x_train.copy(), y_train.copy()\n",
    "        n_data = x_train.shape[0]\n",
    "        ones_col = np.ones((n_data, 1))\n",
    "        x_train = np.hstack((ones_col, x_train))\n",
    "        n_feature = x_train.shape[1]\n",
    "        \n",
    "        # w init\n",
    "        w = np.zeros_like(x_train[0])\n",
    "        if winit == 'ridge':\n",
    "            inverse_term = self.lamcoef * np.eye(n_feature) + np.matmul(x_train.T, x_train)\n",
    "            w = np.matmul(np.linalg.inv(inverse_term), np.matmul(x_train.T, y_train))\n",
    "        \n",
    "        # train with Lasso regression\n",
    "        prev_loss = self._loss(x_train, y_train, w, const_regu=self.const_regu)\n",
    "        if verbose:\n",
    "            print(f'init loss: {prev_loss}')\n",
    "            \n",
    "        for iteration in range(self.max_iter):\n",
    "            \n",
    "            # update w_j\n",
    "            for j in range(n_feature):\n",
    "                if j == 0 and not self.const_regu:\n",
    "                    w[j] = np.mean(y_train - np.matmul(np.delete(x_train, j, axis=1), np.delete(w, j, axis=0).T))\n",
    "                else:\n",
    "                    err = y_train - np.matmul(np.delete(x_train, j, axis=1), np.delete(w, j, axis=0).T)\n",
    "                    sum_term = np.sum(err * x_train[:, j])\n",
    "                    nlam = n_data * self.lamcoef\n",
    "                    x_ijsq = np.sum(x_train[:, j] ** 2)\n",
    "                    if ((sum_term - nlam)/x_ijsq > 0):\n",
    "                        w[j] = (sum_term - nlam) / x_ijsq\n",
    "                    elif ((sum_term + nlam)/x_ijsq < 0):\n",
    "                        w[j] = (sum_term + nlam) / x_ijsq\n",
    "                    else:\n",
    "                        w[j] = 0\n",
    "            \n",
    "            # break if L differs by smaller than tol\n",
    "            cur_loss = self._loss(x_train, y_train, w, const_regu=self.const_regu)\n",
    "            if verbose:\n",
    "                print(f'[iteration {iteration}] loss: {cur_loss}')\n",
    "            if prev_loss - cur_loss < self.tol:\n",
    "                if verbose:\n",
    "                    print(f'loss differ by {prev_loss - cur_loss} < {self.tol}, breaking...')\n",
    "                break\n",
    "            prev_loss = cur_loss\n",
    "        \n",
    "        return w, cur_loss\n",
    "\n",
    "    def predict(self, x_test):\n",
    "        \"\"\"Make prediction using trained model\"\"\"\n",
    "    \n",
    "    def _loss(self, x_train, y_train, w, const_regu):\n",
    "        mse = np.mean((y_train - np.matmul(x_train, w.T)) ** 2)\n",
    "        w_l1norm = np.linalg.norm(w, ord=1) if const_regu else np.linalg.norm(w[1:], ord=1)\n",
    "        return (mse/2 + self.lamcoef*w_l1norm)\n",
    "        "
   ]
  },
  {
   "cell_type": "markdown",
   "metadata": {},
   "source": [
    "### Q3.3 Training with Lasso Regression\n",
    "\n",
    "First, load and standardize the training data."
   ]
  },
  {
   "cell_type": "code",
   "execution_count": 259,
   "metadata": {},
   "outputs": [],
   "source": [
    "import pickle\n",
    "from sklearn import preprocessing\n",
    "\n",
    "np.set_printoptions(suppress=True)\n",
    "\n",
    "with open('msd_data1.pickle', 'rb') as fh1:\n",
    "    msd_data = pickle.load(fh1)\n",
    "xscaler = preprocessing.StandardScaler().fit(msd_data['X_train'])\n",
    "x_train_sd = xscaler.transform(msd_data['X_train'])\n",
    "x_test_sd = xscaler.transform(msd_data['X_test'])\n",
    "y_train = msd_data['Y_train']\n",
    "y_test = msd_data['Y_test']"
   ]
  },
  {
   "cell_type": "markdown",
   "metadata": {},
   "source": [
    "Then, fit `mylasso` with the training data."
   ]
  },
  {
   "cell_type": "code",
   "execution_count": 261,
   "metadata": {},
   "outputs": [],
   "source": [
    "mlo = mylasso(lamcoef = 0.1)\n",
    "w, loss_train = mlo.fit(x_train_sd, y_train)"
   ]
  },
  {
   "cell_type": "markdown",
   "metadata": {},
   "source": [
    "List training loss, RMSE, MAE, intercept, feature weight, and the number of nonzero feature weight."
   ]
  },
  {
   "cell_type": "code",
   "execution_count": 262,
   "metadata": {},
   "outputs": [
    {
     "name": "stdout",
     "output_type": "stream",
     "text": [
      "Training loss = 49.888404109953676\n",
      "RMSE in training data = 9.71949908908463\n",
      "MAE in training data = 6.980898009625434\n",
      "Intercept = 1998.266\n",
      "Feature weight (without bias) = [ 4.6518551  -2.45673153 -1.06195885  0.         -0.34275054 -2.94854329\n",
      "  0.         -0.39970268 -0.42653866  0.         -0.23498651 -0.39491058\n",
      "  0.50307719  0.         -0.34207893  0.61674589  0.15722753  0.43489925\n",
      "  0.43595375  1.12941661  0.40663481  0.          1.77743607  0.\n",
      " -0.16842728  0.07833529  0.66391172  0.01297938  0.15350723  0.\n",
      " -0.21762074 -0.22189107  0.         -0.0027548  -0.01707674 -0.2599464\n",
      "  0.          0.28969362  0.34893387  0.         -0.26112569 -0.14488702\n",
      " -0.00995271  0.03497723 -0.03984338  0.          0.00299383 -0.17804306\n",
      "  0.          0.06494382  0.27076506  0.          0.          0.\n",
      "  0.          0.         -0.63813223  0.23761428 -0.19016387  0.\n",
      " -0.18875525  0.         -0.13590668  0.0612754  -0.26619017  0.\n",
      "  0.          0.         -0.03099184  0.         -0.19276517  0.01221358\n",
      "  0.20735199  0.25118247  0.12313494  0.          0.         -0.52945662\n",
      "  0.          0.          0.17859187  0.02408561  0.25291058  0.19360205\n",
      "  0.37064854  0.          0.         -0.29169753  0.          0.        ]\n",
      "59 nonzero feature weights\n"
     ]
    }
   ],
   "source": [
    "x_train_sd_aug = np.hstack((np.ones((y_train.shape[0], 1)), x_train_sd))\n",
    "y_pred = np.matmul(x_train_sd_aug, w.T)\n",
    "mse = np.mean((y_pred - y_train) ** 2)\n",
    "rmse = np.sqrt(mse)\n",
    "mae = np.mean(np.absolute(y_pred - y_train))\n",
    "print(f'Training loss = {loss_train}')\n",
    "print(f'RMSE in training data = {rmse}')\n",
    "print(f'MAE in training data = {mae}')\n",
    "print(f'Intercept = {w[0]}')\n",
    "print(f'Feature weight (without bias) = {w[1:]}')\n",
    "print(f'{np.count_nonzero(w[1:])} nonzero feature weights')"
   ]
  }
 ],
 "metadata": {
  "kernelspec": {
   "display_name": "Python 3",
   "language": "python",
   "name": "python3"
  },
  "language_info": {
   "codemirror_mode": {
    "name": "ipython",
    "version": 3
   },
   "file_extension": ".py",
   "mimetype": "text/x-python",
   "name": "python",
   "nbconvert_exporter": "python",
   "pygments_lexer": "ipython3",
   "version": "3.8.5"
  }
 },
 "nbformat": 4,
 "nbformat_minor": 4
}
