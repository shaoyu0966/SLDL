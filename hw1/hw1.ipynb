{
 "cells": [
  {
   "cell_type": "markdown",
   "metadata": {},
   "source": [
    "## Homework 1"
   ]
  },
  {
   "cell_type": "markdown",
   "metadata": {},
   "source": [
    "### Question 1\n",
    "\n",
    "#### Q1.1"
   ]
  },
  {
   "cell_type": "markdown",
   "metadata": {},
   "source": [
    "Import required packages."
   ]
  },
  {
   "cell_type": "code",
   "execution_count": 10,
   "metadata": {},
   "outputs": [],
   "source": [
    "# import sys\n",
    "# !{sys.executable} -m pip install numpy\n",
    "# !{sys.executable} -m pip install sklearn\n",
    "import numpy as np\n",
    "import pickle\n",
    "from sklearn import preprocessing"
   ]
  },
  {
   "cell_type": "markdown",
   "metadata": {},
   "source": [
    "Create `myknn_regressor` class."
   ]
  },
  {
   "cell_type": "code",
   "execution_count": null,
   "metadata": {},
   "outputs": [],
   "source": [
    "class myknn_regressor():\n",
    "    def __init__(self, n_neighbors = 10, mean_type = \"equal_weight\"):\n",
    "        \"\"\"\n",
    "        mean_type can be equal_weight or remove_outliers.\n",
    "        equal_weight use the same weight for all neighbors.\n",
    "        remove_outliers remove neighbors out in [Q1 - 1.5 IQR, Q3 + 1.5IQR].\n",
    "        \"\"\"\n",
    "        self.n_neighbors = n_neighbors\n",
    "        self.mean_type = mean_type\n",
    "\n",
    "    def fit(self, x_train, y_train):\n",
    "        ### Add your code here ###\n",
    "            \n",
    "\n",
    "    def predict(self, x_test):\n",
    "        \"\"\"use remove_outliers only if k>=10\"\"\"\n",
    "         ### Add your code here ###"
   ]
  },
  {
   "cell_type": "markdown",
   "metadata": {},
   "source": [
    "#### Q1.2\n",
    "Load and standardize data."
   ]
  },
  {
   "cell_type": "code",
   "execution_count": 16,
   "metadata": {},
   "outputs": [
    {
     "name": "stdout",
     "output_type": "stream",
     "text": [
      "X_train((5000, 90)): [[ 1.62556548  1.05564491  1.33908654 ... -0.22192259 -0.1087769\n",
      "   0.03568937]\n",
      " [-0.09558527 -0.68108552  0.86818824 ...  0.40727698 -1.12403384\n",
      "  -0.78882859]\n",
      " [ 1.05313827  0.41580362  1.31520077 ... -0.17512961  0.45565848\n",
      "   0.36801238]\n",
      " ...\n",
      " [-0.38730362 -1.87752187  1.37222348 ... -0.05089658 -0.67734797\n",
      "  -0.32152912]\n",
      " [-0.09021576  0.80037392  0.59122816 ...  1.07907205  1.06993276\n",
      "  -0.56732961]\n",
      " [-1.11524976  0.54172487 -0.32073102 ...  1.25346007  0.48608246\n",
      "   0.10947997]]\n",
      "\n",
      "X_test((3000, 90)): [[-0.79883587  1.03090075  0.05799746 ...  0.17825377 -0.54327185\n",
      "   0.39060745]\n",
      " [ 0.21333475  0.85586239  0.00824032 ...  0.02044921  0.1830068\n",
      "   0.20019195]\n",
      " [-0.0541279   0.84520629  0.25214997 ... -1.34122252 -0.16468428\n",
      "  -0.28261549]\n",
      " ...\n",
      " [-0.58700378  1.16002981 -0.04690281 ...  1.79470122 -0.46477533\n",
      "  -0.57236088]\n",
      " [ 1.1140292   0.7953813   0.46540748 ... -0.11720122 -0.37500158\n",
      "  -0.16955953]\n",
      " [-0.32971976 -0.20142074 -0.80349702 ...  0.32572921 -0.80914068\n",
      "   0.11940881]]\n",
      "\n",
      "Y_train((5000,)): [1996. 2001. 2003. ... 2009. 1982. 1981.]\n",
      "\n",
      "Y_test((3000,)): [1998. 1988. 2005. ... 1990. 2005. 1989.]\n",
      "\n"
     ]
    }
   ],
   "source": [
    "with open('msd_data1.pickle', 'rb') as fh1:\n",
    "    msd_data = pickle.load(fh1)\n",
    "\n",
    "xscaler = preprocessing.StandardScaler().fit(msd_data['X_train'])\n",
    "X_train = xscaler.transform(msd_data['X_train'])\n",
    "X_test = xscaler.transform(msd_data['X_test'])\n",
    "Y_train = msd_data['Y_train']\n",
    "Y_test = msd_data['Y_test']\n",
    "print(f'X_train({X_train.shape}): {X_train}\\n')\n",
    "print(f'X_test({X_test.shape}): {X_test}\\n')\n",
    "print(f'Y_train({Y_train.shape}): {Y_train}\\n')\n",
    "print(f'Y_test({Y_test.shape}): {Y_test}\\n')"
   ]
  }
 ],
 "metadata": {
  "kernelspec": {
   "display_name": "Python 3",
   "language": "python",
   "name": "python3"
  },
  "language_info": {
   "codemirror_mode": {
    "name": "ipython",
    "version": 3
   },
   "file_extension": ".py",
   "mimetype": "text/x-python",
   "name": "python",
   "nbconvert_exporter": "python",
   "pygments_lexer": "ipython3",
   "version": "3.8.5"
  }
 },
 "nbformat": 4,
 "nbformat_minor": 4
}
