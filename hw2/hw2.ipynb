{
 "cells": [
  {
   "cell_type": "markdown",
   "metadata": {},
   "source": [
    "## Statistical Learning and Deep Learning, 2020 Fall\n",
    "### Homework 2\n",
    "\n",
    "b06705208 資管四 朱紹瑜"
   ]
  },
  {
   "cell_type": "markdown",
   "metadata": {},
   "source": [
    "### Q1\n",
    "First, read the training data and the testing data."
   ]
  },
  {
   "cell_type": "code",
   "execution_count": 45,
   "metadata": {},
   "outputs": [],
   "source": [
    "import numpy as np\n",
    "import pandas as pd\n",
    "import pickle\n",
    "from sklearn import preprocessing\n",
    "\n",
    "train = pd.read_csv('adult.data', header=None)\n",
    "test = pd.read_csv('adult.test', header=None)\n",
    "col_name = ['age', 'workclass', 'fnlwgt', 'education', 'education-num', \n",
    "           'marital-status', 'occupation', 'relationship', 'race', 'sex', \n",
    "           'capital-gain', 'capital-loss', 'hours-per-week', 'native-country', 'income']\n",
    "train.columns = col_name\n",
    "test.columns = col_name"
   ]
  },
  {
   "cell_type": "markdown",
   "metadata": {},
   "source": [
    "Then, remove NaNs."
   ]
  },
  {
   "cell_type": "code",
   "execution_count": 46,
   "metadata": {},
   "outputs": [
    {
     "name": "stdout",
     "output_type": "stream",
     "text": [
      "(30162, 15)\n",
      "(15060, 15)\n"
     ]
    }
   ],
   "source": [
    "train = train.replace(' ?', np.NaN).dropna()\n",
    "test = test.replace(' ?', np.NaN).dropna()\n",
    "train.reset_index(drop=True, inplace=True)\n",
    "test.reset_index(drop=True, inplace=True)\n",
    "print(train.shape)\n",
    "print(test.shape)"
   ]
  },
  {
   "cell_type": "markdown",
   "metadata": {},
   "source": [
    "Split $x$, $y$. Convert '>50K' and '<=50K' into 1 and 0."
   ]
  },
  {
   "cell_type": "code",
   "execution_count": 47,
   "metadata": {},
   "outputs": [
    {
     "name": "stdout",
     "output_type": "stream",
     "text": [
      "x_train: (30162, 14)\n",
      "y_train: (30162, 1)\n",
      "x_test: (15060, 14)\n",
      "y_test: (15060, 1)\n"
     ]
    }
   ],
   "source": [
    "x_train = train.iloc[:, :-1]\n",
    "y_train = train.iloc[:, -1:]\n",
    "x_test = test.iloc[:, :-1]\n",
    "y_test = test.iloc[:, -1:]\n",
    "\n",
    "convert_map = {' >50K': 1, ' <=50K': 0}\n",
    "y_train['income'] = y_train['income'].map(convert_map)\n",
    "y_test['income'] = y_test['income'].map(convert_map)\n",
    "print(f'x_train: {x_train.shape}')\n",
    "print(f'y_train: {y_train.shape}')\n",
    "print(f'x_test: {x_test.shape}')\n",
    "print(f'y_test: {y_test.shape}')"
   ]
  },
  {
   "cell_type": "markdown",
   "metadata": {},
   "source": [
    "For all categorical features, apply 1-of-K encoding."
   ]
  },
  {
   "cell_type": "code",
   "execution_count": 48,
   "metadata": {},
   "outputs": [
    {
     "name": "stdout",
     "output_type": "stream",
     "text": [
      "(30162, 8) (30162, 6)\n",
      "(15060, 8) (15060, 6)\n",
      "(30162, 98) (30162, 6)\n",
      "(15060, 97) (15060, 6)\n"
     ]
    }
   ],
   "source": [
    "x_train_cat = x_train.select_dtypes(include='object')\n",
    "x_train_num = x_train.select_dtypes(include='int64')\n",
    "x_test_cat = x_test.select_dtypes(include='object')\n",
    "x_test_num = x_test.select_dtypes(include='int64')\n",
    "print(x_train_cat.shape, x_train_num.shape)\n",
    "print(x_test_cat.shape, x_test_num.shape)\n",
    "\n",
    "x_train_cat = pd.get_dummies(x_train_cat)\n",
    "x_train_cat.columns = x_train_cat.columns.str.replace(' ', '')\n",
    "x_test_cat = pd.get_dummies(x_test_cat)\n",
    "x_test_cat.columns = x_test_cat.columns.str.replace(' ', '')\n",
    "print(x_train_cat.shape, x_train_num.shape)\n",
    "print(x_test_cat.shape, x_test_num.shape)"
   ]
  },
  {
   "cell_type": "markdown",
   "metadata": {},
   "source": [
    "Remove features that appeared less than 10 times."
   ]
  },
  {
   "cell_type": "code",
   "execution_count": 49,
   "metadata": {},
   "outputs": [
    {
     "name": "stdout",
     "output_type": "stream",
     "text": [
      "(30162, 96)\n",
      "(15060, 96)\n"
     ]
    }
   ],
   "source": [
    "x_train_cat = x_train_cat[x_train_cat.columns[x_train_cat.sum() >= 10]]\n",
    "x_test_cat = x_test_cat[x_train_cat.columns]\n",
    "print(x_train_cat.shape)\n",
    "print(x_test_cat.shape)"
   ]
  },
  {
   "cell_type": "markdown",
   "metadata": {},
   "source": [
    "Normalize numerical features."
   ]
  },
  {
   "cell_type": "code",
   "execution_count": 50,
   "metadata": {},
   "outputs": [],
   "source": [
    "x_train_val = x_train_num.to_numpy()\n",
    "x_scaler = preprocessing.StandardScaler().fit(x_train_val)\n",
    "x_train_val = x_scaler.transform(x_train_val)\n",
    "x_train_num = pd.DataFrame(data=x_train_val, columns=x_train_num.columns)\n",
    "\n",
    "x_test_val = x_scaler.transform(x_test_num.to_numpy())\n",
    "x_test_num = pd.DataFrame(data=x_test_val, columns=x_test_num.columns)"
   ]
  },
  {
   "cell_type": "markdown",
   "metadata": {},
   "source": [
    "Combine data into dictionary."
   ]
  },
  {
   "cell_type": "code",
   "execution_count": 52,
   "metadata": {},
   "outputs": [
    {
     "name": "stdout",
     "output_type": "stream",
     "text": [
      "{'num_col': ['age', 'fnlwgt', 'education-num', 'capital-gain', 'capital-loss', 'hours-per-week']}\n"
     ]
    }
   ],
   "source": [
    "adult50 = {}\n",
    "adult50['num_col'] = x_train_num.columns.to_list()\n",
    "print(adult50)"
   ]
  },
  {
   "cell_type": "code",
   "execution_count": null,
   "metadata": {},
   "outputs": [],
   "source": []
  },
  {
   "cell_type": "code",
   "execution_count": null,
   "metadata": {},
   "outputs": [],
   "source": []
  },
  {
   "cell_type": "code",
   "execution_count": null,
   "metadata": {},
   "outputs": [],
   "source": []
  },
  {
   "cell_type": "code",
   "execution_count": 37,
   "metadata": {},
   "outputs": [
    {
     "name": "stdout",
     "output_type": "stream",
     "text": [
      "dict_keys(['x_train', 'y_train', 'x_test', 'y_test', 'columnname', 'num_col'])\n",
      "(30162, 102)\n",
      "(15060, 102)\n",
      "(30162,)\n",
      "(15060,)\n",
      "['capital-loss' 'hours-per-week' 'capital-gain' 'educational-num' 'age'\n",
      " 'fnlwgt' 'relationship_Husband' 'relationship_Not-in-family'\n",
      " 'relationship_Other-relative' 'relationship_Own-child'\n",
      " 'relationship_Unmarried' 'relationship_Wife' 'race_Amer-Indian-Eskimo'\n",
      " 'race_Asian-Pac-Islander' 'race_Black' 'race_Other' 'race_White'\n",
      " 'gender_Female' 'gender_Male' 'occupation_Adm-clerical'\n",
      " 'occupation_Craft-repair' 'occupation_Exec-managerial'\n",
      " 'occupation_Farming-fishing' 'occupation_Handlers-cleaners'\n",
      " 'occupation_Machine-op-inspct' 'occupation_Other-service'\n",
      " 'occupation_Priv-house-serv' 'occupation_Prof-specialty'\n",
      " 'occupation_Protective-serv' 'occupation_Sales' 'occupation_Tech-support'\n",
      " 'occupation_Transport-moving' 'education_10th' 'education_11th'\n",
      " 'education_12th' 'education_1st-4th' 'education_5th-6th'\n",
      " 'education_7th-8th' 'education_9th' 'education_Assoc-acdm'\n",
      " 'education_Assoc-voc' 'education_Bachelors' 'education_Doctorate'\n",
      " 'education_HS-grad' 'education_Masters' 'education_Preschool'\n",
      " 'education_Prof-school' 'education_Some-college'\n",
      " 'native-country_Cambodia' 'native-country_Canada' 'native-country_China'\n",
      " 'native-country_Columbia' 'native-country_Cuba'\n",
      " 'native-country_Dominican-Republic' 'native-country_Ecuador'\n",
      " 'native-country_El-Salvador' 'native-country_England'\n",
      " 'native-country_France' 'native-country_Germany' 'native-country_Greece'\n",
      " 'native-country_Guatemala' 'native-country_Haiti'\n",
      " 'native-country_Honduras' 'native-country_Hong' 'native-country_Hungary'\n",
      " 'native-country_India' 'native-country_Iran' 'native-country_Ireland'\n",
      " 'native-country_Italy' 'native-country_Jamaica' 'native-country_Japan'\n",
      " 'native-country_Laos' 'native-country_Mexico' 'native-country_Nicaragua'\n",
      " 'native-country_Outlying-US(Guam-USVI-etc)' 'native-country_Peru'\n",
      " 'native-country_Philippines' 'native-country_Poland'\n",
      " 'native-country_Portugal' 'native-country_Puerto-Rico'\n",
      " 'native-country_Scotland' 'native-country_South' 'native-country_Taiwan'\n",
      " 'native-country_Thailand' 'native-country_Trinadad&Tobago'\n",
      " 'native-country_United-States' 'native-country_Vietnam'\n",
      " 'native-country_Yugoslavia' 'workclass_Federal-gov' 'workclass_Local-gov'\n",
      " 'workclass_Private' 'workclass_Self-emp-inc' 'workclass_Self-emp-not-inc'\n",
      " 'workclass_State-gov' 'workclass_Without-pay' 'marital-status_Divorced'\n",
      " 'marital-status_Married-AF-spouse' 'marital-status_Married-civ-spouse'\n",
      " 'marital-status_Married-spouse-absent' 'marital-status_Never-married'\n",
      " 'marital-status_Separated' 'marital-status_Widowed']\n",
      "[[-0.21858598 -0.07773411  0.14609228 ...  1.          0.\n",
      "   0.        ]\n",
      " [-0.21858598 -2.3315307  -0.14744462 ...  0.          0.\n",
      "   0.        ]\n",
      " [-0.21858598 -0.07773411 -0.14744462 ...  0.          0.\n",
      "   0.        ]\n",
      " ...\n",
      " [-0.21858598 -0.07773411 -0.14744462 ...  0.          0.\n",
      "   1.        ]\n",
      " [-0.21858598 -1.74721307 -0.14744462 ...  1.          0.\n",
      "   0.        ]\n",
      " [-0.21858598 -0.07773411  1.88111954 ...  0.          0.\n",
      "   0.        ]]\n"
     ]
    }
   ],
   "source": [
    "# ref\n",
    "import pickle\n",
    "dsfile = 'adult_m50k.pickle'\n",
    "with open(dsfile, 'rb') as fh1:\n",
    "    adult50kp = pickle.load(fh1)\n",
    "print(adult50kp.keys())\n",
    "print(adult50kp['x_train'].shape)\n",
    "print(adult50kp['x_test'].shape)\n",
    "print(adult50kp['y_train'].shape)\n",
    "print(adult50kp['y_test'].shape)\n",
    "print(adult50kp['columnname'])\n",
    "print(adult50kp['x_train'])"
   ]
  },
  {
   "cell_type": "code",
   "execution_count": null,
   "metadata": {},
   "outputs": [],
   "source": []
  }
 ],
 "metadata": {
  "kernelspec": {
   "display_name": "Python 3",
   "language": "python",
   "name": "python3"
  },
  "language_info": {
   "codemirror_mode": {
    "name": "ipython",
    "version": 3
   },
   "file_extension": ".py",
   "mimetype": "text/x-python",
   "name": "python",
   "nbconvert_exporter": "python",
   "pygments_lexer": "ipython3",
   "version": "3.8.5"
  }
 },
 "nbformat": 4,
 "nbformat_minor": 4
}
