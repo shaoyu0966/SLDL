{
 "cells": [
  {
   "cell_type": "markdown",
   "metadata": {},
   "source": [
    "## Statistical Learning and Deep Learning, 2020 Fall\n",
    "### Homework 2\n",
    "\n",
    "b06705208 資管四 朱紹瑜"
   ]
  },
  {
   "cell_type": "markdown",
   "metadata": {},
   "source": [
    "### Q1\n",
    "First, read the training data and the testing data."
   ]
  },
  {
   "cell_type": "code",
   "execution_count": 4,
   "metadata": {},
   "outputs": [
    {
     "name": "stdout",
     "output_type": "stream",
     "text": [
      "(32561, 15)\n",
      "(16281, 15)\n"
     ]
    }
   ],
   "source": [
    "import numpy as np\n",
    "import pandas as pd\n",
    "import pickle\n",
    "\n",
    "train = pd.read_csv('adult.data', header=None)\n",
    "test = pd.read_csv('adult.test', header=None)\n",
    "colname = ['age', 'workclass', 'fnlwgt', 'education', 'education-num', \n",
    "           'marital-status', 'occupation', 'relationship', 'race', 'sex', \n",
    "           'capital-gain', 'capital-loss', 'hours-per-week', 'native-country', 'income']\n",
    "train.columns = colname\n",
    "test.columns = colname\n",
    "print(train.shape)\n",
    "print(test.shape)"
   ]
  },
  {
   "cell_type": "markdown",
   "metadata": {},
   "source": [
    "Then, remove NaNs."
   ]
  },
  {
   "cell_type": "code",
   "execution_count": 5,
   "metadata": {},
   "outputs": [
    {
     "name": "stdout",
     "output_type": "stream",
     "text": [
      "(30162, 15)\n",
      "(15060, 15)\n"
     ]
    }
   ],
   "source": [
    "train = train.replace(' ?', np.NaN).dropna()\n",
    "test = test.replace(' ?', np.NaN).dropna()\n",
    "print(train.shape)\n",
    "print(test.shape)"
   ]
  },
  {
   "cell_type": "code",
   "execution_count": null,
   "metadata": {},
   "outputs": [],
   "source": []
  },
  {
   "cell_type": "code",
   "execution_count": null,
   "metadata": {},
   "outputs": [],
   "source": []
  },
  {
   "cell_type": "code",
   "execution_count": 6,
   "metadata": {},
   "outputs": [
    {
     "name": "stdout",
     "output_type": "stream",
     "text": [
      "dict_keys(['x_train', 'y_train', 'x_test', 'y_test', 'columnname', 'num_col'])\n",
      "(30162, 102)\n",
      "(15060, 102)\n",
      "(30162,)\n",
      "(15060,)\n",
      "['capital-loss' 'hours-per-week' 'capital-gain' 'educational-num' 'age'\n",
      " 'fnlwgt' 'relationship_Husband' 'relationship_Not-in-family'\n",
      " 'relationship_Other-relative' 'relationship_Own-child'\n",
      " 'relationship_Unmarried' 'relationship_Wife' 'race_Amer-Indian-Eskimo'\n",
      " 'race_Asian-Pac-Islander' 'race_Black' 'race_Other' 'race_White'\n",
      " 'gender_Female' 'gender_Male' 'occupation_Adm-clerical'\n",
      " 'occupation_Craft-repair' 'occupation_Exec-managerial'\n",
      " 'occupation_Farming-fishing' 'occupation_Handlers-cleaners'\n",
      " 'occupation_Machine-op-inspct' 'occupation_Other-service'\n",
      " 'occupation_Priv-house-serv' 'occupation_Prof-specialty'\n",
      " 'occupation_Protective-serv' 'occupation_Sales' 'occupation_Tech-support'\n",
      " 'occupation_Transport-moving' 'education_10th' 'education_11th'\n",
      " 'education_12th' 'education_1st-4th' 'education_5th-6th'\n",
      " 'education_7th-8th' 'education_9th' 'education_Assoc-acdm'\n",
      " 'education_Assoc-voc' 'education_Bachelors' 'education_Doctorate'\n",
      " 'education_HS-grad' 'education_Masters' 'education_Preschool'\n",
      " 'education_Prof-school' 'education_Some-college'\n",
      " 'native-country_Cambodia' 'native-country_Canada' 'native-country_China'\n",
      " 'native-country_Columbia' 'native-country_Cuba'\n",
      " 'native-country_Dominican-Republic' 'native-country_Ecuador'\n",
      " 'native-country_El-Salvador' 'native-country_England'\n",
      " 'native-country_France' 'native-country_Germany' 'native-country_Greece'\n",
      " 'native-country_Guatemala' 'native-country_Haiti'\n",
      " 'native-country_Honduras' 'native-country_Hong' 'native-country_Hungary'\n",
      " 'native-country_India' 'native-country_Iran' 'native-country_Ireland'\n",
      " 'native-country_Italy' 'native-country_Jamaica' 'native-country_Japan'\n",
      " 'native-country_Laos' 'native-country_Mexico' 'native-country_Nicaragua'\n",
      " 'native-country_Outlying-US(Guam-USVI-etc)' 'native-country_Peru'\n",
      " 'native-country_Philippines' 'native-country_Poland'\n",
      " 'native-country_Portugal' 'native-country_Puerto-Rico'\n",
      " 'native-country_Scotland' 'native-country_South' 'native-country_Taiwan'\n",
      " 'native-country_Thailand' 'native-country_Trinadad&Tobago'\n",
      " 'native-country_United-States' 'native-country_Vietnam'\n",
      " 'native-country_Yugoslavia' 'workclass_Federal-gov' 'workclass_Local-gov'\n",
      " 'workclass_Private' 'workclass_Self-emp-inc' 'workclass_Self-emp-not-inc'\n",
      " 'workclass_State-gov' 'workclass_Without-pay' 'marital-status_Divorced'\n",
      " 'marital-status_Married-AF-spouse' 'marital-status_Married-civ-spouse'\n",
      " 'marital-status_Married-spouse-absent' 'marital-status_Never-married'\n",
      " 'marital-status_Separated' 'marital-status_Widowed']\n"
     ]
    }
   ],
   "source": [
    "# ref\n",
    "import pickle\n",
    "dsfile = 'adult_m50k.pickle'\n",
    "with open(dsfile, 'rb') as fh1:\n",
    "    adult50kp = pickle.load(fh1)\n",
    "print(adult50kp.keys())\n",
    "print(adult50kp['x_train'].shape)\n",
    "print(adult50kp['x_test'].shape)\n",
    "print(adult50kp['y_train'].shape)\n",
    "print(adult50kp['y_test'].shape)\n",
    "print(adult50kp['columnname'])"
   ]
  }
 ],
 "metadata": {
  "kernelspec": {
   "display_name": "Python 3",
   "language": "python",
   "name": "python3"
  },
  "language_info": {
   "codemirror_mode": {
    "name": "ipython",
    "version": 3
   },
   "file_extension": ".py",
   "mimetype": "text/x-python",
   "name": "python",
   "nbconvert_exporter": "python",
   "pygments_lexer": "ipython3",
   "version": "3.8.5"
  }
 },
 "nbformat": 4,
 "nbformat_minor": 4
}
