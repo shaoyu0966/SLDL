{
 "cells": [
  {
   "cell_type": "markdown",
   "metadata": {},
   "source": [
    "## Statistical Learning and Deep Learning, 2020 Fall\n",
    "### Homework 2\n",
    "\n",
    "b06705208 資管四 朱紹瑜"
   ]
  },
  {
   "cell_type": "markdown",
   "metadata": {},
   "source": [
    "### Q1\n",
    "First, read the training data and the testing data."
   ]
  },
  {
   "cell_type": "code",
   "execution_count": 1,
   "metadata": {},
   "outputs": [],
   "source": [
    "import numpy as np\n",
    "import pandas as pd\n",
    "import pickle\n",
    "from sklearn import preprocessing\n",
    "\n",
    "# read data\n",
    "train = pd.read_csv('adult.data', header=None)\n",
    "test = pd.read_csv('adult.test', header=None)\n",
    "\n",
    "# assign column names\n",
    "col_name = ['age', 'workclass', 'fnlwgt', 'education', 'educational-num', \n",
    "           'marital-status', 'occupation', 'relationship', 'race', 'gender', \n",
    "           'capital-gain', 'capital-loss', 'hours-per-week', 'native-country', 'income']\n",
    "train.columns = col_name\n",
    "test.columns = col_name\n",
    "\n",
    "# reorder columns\n",
    "col_sequence = ['capital-loss', 'hours-per-week', 'capital-gain', 'educational-num', 'age', 'fnlwgt', \n",
    "              'relationship', 'race', 'gender', 'occupation', 'education', 'native-country', 'workclass', \n",
    "               'marital-status', 'income']\n",
    "train = train[col_sequence]\n",
    "test = test[col_sequence]"
   ]
  },
  {
   "cell_type": "markdown",
   "metadata": {},
   "source": [
    "Then, remove NaNs."
   ]
  },
  {
   "cell_type": "code",
   "execution_count": 2,
   "metadata": {},
   "outputs": [
    {
     "name": "stdout",
     "output_type": "stream",
     "text": [
      "(30162, 15)\n",
      "(15060, 15)\n"
     ]
    }
   ],
   "source": [
    "train = train.replace(' ?', np.NaN).dropna()\n",
    "test = test.replace(' ?', np.NaN).dropna()\n",
    "train.reset_index(drop=True, inplace=True)\n",
    "test.reset_index(drop=True, inplace=True)\n",
    "print(train.shape)\n",
    "print(test.shape)"
   ]
  },
  {
   "cell_type": "markdown",
   "metadata": {},
   "source": [
    "Split $x$, $y$. Convert '>50K' and '<=50K' into 1 and 0."
   ]
  },
  {
   "cell_type": "code",
   "execution_count": 3,
   "metadata": {},
   "outputs": [
    {
     "name": "stdout",
     "output_type": "stream",
     "text": [
      "x_train: (30162, 14)\n",
      "y_train: (30162, 1)\n",
      "x_test: (15060, 14)\n",
      "y_test: (15060, 1)\n"
     ]
    }
   ],
   "source": [
    "x_train = train.iloc[:, :-1]\n",
    "y_train = train.iloc[:, -1:]\n",
    "x_test = test.iloc[:, :-1]\n",
    "y_test = test.iloc[:, -1:]\n",
    "\n",
    "convert_train = {' >50K': 1, ' <=50K': 0}\n",
    "convert_test = {' >50K.': 1, ' <=50K.': 0}\n",
    "y_train['income'] = y_train['income'].map(convert_train)\n",
    "y_test['income'] = y_test['income'].map(convert_test)\n",
    "print(f'x_train: {x_train.shape}')\n",
    "print(f'y_train: {y_train.shape}')\n",
    "print(f'x_test: {x_test.shape}')\n",
    "print(f'y_test: {y_test.shape}')"
   ]
  },
  {
   "cell_type": "markdown",
   "metadata": {},
   "source": [
    "For all categorical features, apply 1-of-K encoding."
   ]
  },
  {
   "cell_type": "code",
   "execution_count": 4,
   "metadata": {},
   "outputs": [
    {
     "name": "stdout",
     "output_type": "stream",
     "text": [
      "(30162, 8) (30162, 6)\n",
      "(15060, 8) (15060, 6)\n",
      "(30162, 98) (30162, 6)\n",
      "(15060, 97) (15060, 6)\n"
     ]
    }
   ],
   "source": [
    "x_train_cat = x_train.select_dtypes(include='object')\n",
    "x_train_num = x_train.select_dtypes(include='int64')\n",
    "x_test_cat = x_test.select_dtypes(include='object')\n",
    "x_test_num = x_test.select_dtypes(include='int64')\n",
    "print(x_train_cat.shape, x_train_num.shape)\n",
    "print(x_test_cat.shape, x_test_num.shape)\n",
    "\n",
    "x_train_cat = pd.get_dummies(x_train_cat)\n",
    "x_train_cat.columns = x_train_cat.columns.str.replace(' ', '')\n",
    "x_test_cat = pd.get_dummies(x_test_cat)\n",
    "x_test_cat.columns = x_test_cat.columns.str.replace(' ', '')\n",
    "print(x_train_cat.shape, x_train_num.shape)\n",
    "print(x_test_cat.shape, x_test_num.shape)"
   ]
  },
  {
   "cell_type": "markdown",
   "metadata": {},
   "source": [
    "Remove features that appeared less than 10 times."
   ]
  },
  {
   "cell_type": "code",
   "execution_count": 5,
   "metadata": {},
   "outputs": [
    {
     "name": "stdout",
     "output_type": "stream",
     "text": [
      "(30162, 96)\n",
      "(15060, 96)\n"
     ]
    }
   ],
   "source": [
    "x_train_cat = x_train_cat[x_train_cat.columns[x_train_cat.sum() >= 10]]\n",
    "x_test_cat = x_test_cat[x_train_cat.columns]\n",
    "print(x_train_cat.shape)\n",
    "print(x_test_cat.shape)"
   ]
  },
  {
   "cell_type": "markdown",
   "metadata": {},
   "source": [
    "Normalize numerical features."
   ]
  },
  {
   "cell_type": "code",
   "execution_count": 6,
   "metadata": {},
   "outputs": [],
   "source": [
    "x_train_val = x_train_num.to_numpy()\n",
    "x_scaler = preprocessing.StandardScaler().fit(x_train_val)\n",
    "x_train_val = x_scaler.transform(x_train_val)\n",
    "x_train_num = pd.DataFrame(data=x_train_val, columns=x_train_num.columns)\n",
    "\n",
    "x_test_val = x_scaler.transform(x_test_num.to_numpy())\n",
    "x_test_num = pd.DataFrame(data=x_test_val, columns=x_test_num.columns)"
   ]
  },
  {
   "cell_type": "markdown",
   "metadata": {},
   "source": [
    "Combine data into dictionary."
   ]
  },
  {
   "cell_type": "code",
   "execution_count": 7,
   "metadata": {},
   "outputs": [],
   "source": [
    "adult50 = {}\n",
    "adult50['num_col'] = x_train_num.columns.to_list()\n",
    "x_train = pd.concat([x_train_num, x_train_cat], axis=1)\n",
    "x_test = pd.concat([x_test_num, x_test_cat], axis=1)\n",
    "adult50['x_train'] = x_train.to_numpy()\n",
    "adult50['x_test'] = x_test.to_numpy()\n",
    "adult50['y_train'] = np.reshape(y_train.to_numpy(), (1, -1))\n",
    "adult50['y_test'] = np.reshape(y_test.to_numpy(), (1, -1))\n",
    "adult50['columnname'] = x_train.columns.tolist()\n",
    "adult50['num_col'] = x_train_num.columns.to_list()"
   ]
  },
  {
   "cell_type": "markdown",
   "metadata": {},
   "source": [
    "Compare our result with `adult_m50k.pickle`."
   ]
  },
  {
   "cell_type": "code",
   "execution_count": 8,
   "metadata": {},
   "outputs": [
    {
     "name": "stdout",
     "output_type": "stream",
     "text": [
      "test dictionary keys:  True\n",
      "test columnname:  [ True  True  True  True  True  True  True  True  True  True  True  True\n",
      "  True  True  True  True  True  True  True  True  True  True  True  True\n",
      "  True  True  True  True  True  True  True  True  True  True  True  True\n",
      "  True  True  True  True  True  True  True  True  True  True  True  True\n",
      "  True  True  True  True  True  True  True  True  True  True  True  True\n",
      "  True  True  True  True  True  True  True  True  True  True  True  True\n",
      "  True  True  True  True  True  True  True  True  True  True  True  True\n",
      "  True  True  True  True  True  True  True  True  True  True  True  True\n",
      "  True  True  True  True  True  True]\n",
      "test num_col:  True\n",
      "x_train match!\n",
      "x_test match!\n",
      "y_train match!\n",
      "y_test match!\n"
     ]
    }
   ],
   "source": [
    "import pickle\n",
    "dsfile = 'adult_m50k.pickle'\n",
    "with open(dsfile, 'rb') as fh1:\n",
    "    adult50kp = pickle.load(fh1)\n",
    "\n",
    "print('test dictionary keys: ', adult50kp.keys() == adult50.keys())\n",
    "print('test columnname: ', adult50kp['columnname'] == adult50['columnname'])\n",
    "print('test num_col: ', adult50kp['num_col'] == adult50['num_col'])\n",
    "\n",
    "elems = ['x_train', 'x_test', 'y_train', 'y_test']\n",
    "for aelem in elems:\n",
    "    cnomatch = np.sum(adult50kp[aelem] != adult50[aelem])\n",
    "    if cnomatch == 0:\n",
    "        print(aelem, \"match!\")\n",
    "    else:\n",
    "        print(aelem, \"%d elements no match!\" % cnomatch)"
   ]
  },
  {
   "cell_type": "code",
   "execution_count": null,
   "metadata": {},
   "outputs": [],
   "source": []
  }
 ],
 "metadata": {
  "kernelspec": {
   "display_name": "Python 3",
   "language": "python",
   "name": "python3"
  },
  "language_info": {
   "codemirror_mode": {
    "name": "ipython",
    "version": 3
   },
   "file_extension": ".py",
   "mimetype": "text/x-python",
   "name": "python",
   "nbconvert_exporter": "python",
   "pygments_lexer": "ipython3",
   "version": "3.8.5"
  }
 },
 "nbformat": 4,
 "nbformat_minor": 4
}
