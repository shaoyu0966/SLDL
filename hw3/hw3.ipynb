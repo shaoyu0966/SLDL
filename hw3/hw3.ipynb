{
 "cells": [
  {
   "cell_type": "markdown",
   "metadata": {},
   "source": [
    "# Statistical Learning and Deep Learning HW3\n",
    "\n"
   ]
  },
  {
   "cell_type": "markdown",
   "metadata": {},
   "source": [
    "### Q1\n",
    "\n",
    "#### Q1.1\n",
    "\n",
    "1. Read the dataset."
   ]
  },
  {
   "cell_type": "code",
   "execution_count": 8,
   "metadata": {},
   "outputs": [
    {
     "name": "stdout",
     "output_type": "stream",
     "text": [
      "  gname  sex  fold\n",
      "0    承憲    1     9\n",
      "1    均平    1     7\n",
      "2    思安    0     6\n",
      "3    佑誠    1     3\n",
      "4    乃馨    0     0\n"
     ]
    }
   ],
   "source": [
    "import numpy as np\n",
    "import pandas as pd\n",
    "import pickle\n",
    "from sklearn import preprocessing\n",
    "\n",
    "df = pd.read_csv('./ds/namesex_data_v2.csv', sep=',')\n",
    "print(df.head())"
   ]
  },
  {
   "cell_type": "markdown",
   "metadata": {},
   "source": [
    "2. Split the dataset into training, validation, stack, and test."
   ]
  },
  {
   "cell_type": "code",
   "execution_count": 9,
   "metadata": {},
   "outputs": [
    {
     "name": "stdout",
     "output_type": "stream",
     "text": [
      "x_train: (7483,), y_train: (7483,)\n",
      "x_valid: (1110,), y_valid: (1110,)\n",
      "x_stack: (1073,), y_stack: (1073,)\n",
      "x_test: (1064,), y_test: (1064,)\n"
     ]
    }
   ],
   "source": [
    "# split by fold value\n",
    "train = df[df['fold'] <= 6]\n",
    "valid = df[df['fold'] == 7]\n",
    "stack = df[df['fold'] == 8]\n",
    "test = df[df['fold'] == 9]\n",
    "    \n",
    "train = train.reset_index()\n",
    "valid = valid.reset_index()\n",
    "stack = stack.reset_index()\n",
    "test = test.reset_index()\n",
    "\n",
    "# split x, y\n",
    "x_train = train['gname']\n",
    "y_train = train['sex'].to_numpy()\n",
    "x_valid = valid['gname']\n",
    "y_valid = valid['sex'].to_numpy()\n",
    "x_stack = stack['gname']\n",
    "y_stack = stack['sex'].to_numpy()\n",
    "x_test = test['gname']\n",
    "y_test = test['sex'].to_numpy()\n",
    "\n",
    "print(f'x_train: {x_train.shape}, y_train: {y_train.shape}')\n",
    "print(f'x_valid: {x_valid.shape}, y_valid: {y_valid.shape}')\n",
    "print(f'x_stack: {x_stack.shape}, y_stack: {y_stack.shape}')\n",
    "print(f'x_test: {x_test.shape}, y_test: {y_test.shape}')"
   ]
  },
  {
   "cell_type": "markdown",
   "metadata": {},
   "source": [
    "3. Apply one-hot encoding."
   ]
  },
  {
   "cell_type": "code",
   "execution_count": 10,
   "metadata": {},
   "outputs": [
    {
     "name": "stdout",
     "output_type": "stream",
     "text": [
      "# of feature: 1630\n"
     ]
    }
   ],
   "source": [
    "feature = list()\n",
    "for name in list(x_train.to_numpy()):\n",
    "    if len(name) > 1:\n",
    "        feature += list(name)\n",
    "    feature.append(name)\n",
    "feature_set = set(feature) - set(' ')\n",
    "feature_count = dict((f, feature.count(f)) for f in feature_set)\n",
    "feature_count = dict(filter(lambda pair: pair[1] >= 2, feature_count.items()))\n",
    "feature = list(feature_count.keys())\n",
    "feature.append('_Other_Feature_')\n",
    "print(f'# of feature: {len(feature)}')"
   ]
  },
  {
   "cell_type": "code",
   "execution_count": 11,
   "metadata": {},
   "outputs": [
    {
     "name": "stdout",
     "output_type": "stream",
     "text": [
      "x_train: (7483, 1630), y_train: (7483,)\n",
      "x_valid: (1110, 1630), y_valid: (1110,)\n",
      "x_stack: (1073, 1630), y_stack: (1073,)\n",
      "x_test: (1064, 1630), y_test: (1064,)\n"
     ]
    }
   ],
   "source": [
    "def oneHot(df):\n",
    "    one_hot = pd.DataFrame(0, index=np.arange(df.shape[0]), columns=feature)\n",
    "    for idx in range(df.shape[0]):\n",
    "        # create feature list\n",
    "        f_list = list(df[idx])\n",
    "        if len(df[idx]) > 1:\n",
    "            f_list.append(df[idx])\n",
    "        cnt = 0\n",
    "        # label\n",
    "        for f in f_list:\n",
    "            if f in feature:\n",
    "                one_hot[f][idx] = 1\n",
    "                cnt += 1\n",
    "        # label other feature\n",
    "        if cnt < len(f_list):\n",
    "            one_hot['_Other_Feature_'][idx] = 1\n",
    "    return one_hot\n",
    "\n",
    "x_train = oneHot(x_train).to_numpy()\n",
    "x_valid = oneHot(x_valid).to_numpy()\n",
    "x_stack = oneHot(x_stack).to_numpy()\n",
    "x_test = oneHot(x_test).to_numpy()\n",
    "\n",
    "print(f'x_train: {x_train.shape}, y_train: {y_train.shape}')\n",
    "print(f'x_valid: {x_valid.shape}, y_valid: {y_valid.shape}')\n",
    "print(f'x_stack: {x_stack.shape}, y_stack: {y_stack.shape}')\n",
    "print(f'x_test: {x_test.shape}, y_test: {y_test.shape}')"
   ]
  },
  {
   "cell_type": "markdown",
   "metadata": {},
   "source": [
    "#### Q1.2\n",
    "\n"
   ]
  },
  {
   "cell_type": "code",
   "execution_count": 16,
   "metadata": {},
   "outputs": [
    {
     "name": "stdout",
     "output_type": "stream",
     "text": [
      "test c from [1.00000000e-04 2.33572147e-04 5.45559478e-04 1.27427499e-03\n",
      " 2.97635144e-03 6.95192796e-03 1.62377674e-02 3.79269019e-02\n",
      " 8.85866790e-02 2.06913808e-01 4.83293024e-01 1.12883789e+00\n",
      " 2.63665090e+00 6.15848211e+00 1.43844989e+01 3.35981829e+01\n",
      " 7.84759970e+01 1.83298071e+02 4.28133240e+02 1.00000000e+03]\n",
      "c: 0.0001, f1 score: 0.0\n",
      "c: 0.00023357214690901214, f1 score: 0.0\n",
      "c: 0.000545559478116852, f1 score: 0.007532956685499058\n",
      "c: 0.0012742749857031334, f1 score: 0.3879699248120301\n",
      "c: 0.002976351441631319, f1 score: 0.7491785323110624\n",
      "c: 0.0069519279617756054, f1 score: 0.8430232558139534\n",
      "c: 0.01623776739188721, f1 score: 0.8638941398865785\n",
      "c: 0.0379269019073225, f1 score: 0.876763875823142\n",
      "c: 0.08858667904100823, f1 score: 0.887841658812441\n",
      "c: 0.2069138081114788, f1 score: 0.8895184135977338\n",
      "c: 0.4832930238571752, f1 score: 0.8932955618508026\n",
      "c: 1.1288378916846884, f1 score: 0.8945386064030133\n",
      "c: 2.6366508987303554, f1 score: 0.8953817153628653\n",
      "c: 6.1584821106602545, f1 score: 0.8930936613055818\n",
      "c: 14.38449888287663, f1 score: 0.8972667295004714\n",
      "c: 33.59818286283781, f1 score: 0.8962264150943396\n",
      "c: 78.47599703514607, f1 score: 0.8981132075471698\n",
      "c: 183.29807108324337, f1 score: 0.8962264150943396\n",
      "c: 428.1332398719387, f1 score: 0.8960302457466919\n",
      "c: 1000.0, f1 score: 0.8968779564806055\n",
      "best c: 78.47599703514607\n",
      "best f1: 0.8981132075471698\n"
     ]
    }
   ],
   "source": [
    "from sklearn.linear_model import LogisticRegression\n",
    "from sklearn.metrics import recall_score, precision_score, f1_score\n",
    "\n",
    "# tune coefficient c\n",
    "c_coef = np.geomspace(0.0001, 1000, num=20)\n",
    "print(f'test c from {c_coef}')\n",
    "\n",
    "best_c = 0.0001\n",
    "best_f1 = -np.inf\n",
    "for c in c_coef:\n",
    "    clf = LogisticRegression(C=c, max_iter=1000).fit(x_train, y_train)\n",
    "    y_pred = clf.predict(x_valid)\n",
    "    f1 = f1_score(y_valid, y_pred)\n",
    "    print(f'c: {c}, f1 score: {f1}')\n",
    "    \n",
    "    if f1 > best_f1:\n",
    "        best_c = c\n",
    "        best_f1 = f1\n",
    "print(f'best c: {best_c}')\n",
    "print(f'best f1: {best_f1}')"
   ]
  },
  {
   "cell_type": "code",
   "execution_count": null,
   "metadata": {},
   "outputs": [],
   "source": []
  }
 ],
 "metadata": {
  "kernelspec": {
   "display_name": "Python 3",
   "language": "python",
   "name": "python3"
  },
  "language_info": {
   "codemirror_mode": {
    "name": "ipython",
    "version": 3
   },
   "file_extension": ".py",
   "mimetype": "text/x-python",
   "name": "python",
   "nbconvert_exporter": "python",
   "pygments_lexer": "ipython3",
   "version": "3.8.6"
  }
 },
 "nbformat": 4,
 "nbformat_minor": 4
}
