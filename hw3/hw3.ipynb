{
 "cells": [
  {
   "cell_type": "markdown",
   "metadata": {},
   "source": [
    "# Statistical Learning and Deep Learning HW3\n",
    "\n"
   ]
  },
  {
   "cell_type": "markdown",
   "metadata": {},
   "source": [
    "### Q1\n",
    "\n",
    "#### Q1.1\n",
    "\n",
    "1. Read the dataset."
   ]
  },
  {
   "cell_type": "code",
   "execution_count": 138,
   "metadata": {},
   "outputs": [
    {
     "name": "stdout",
     "output_type": "stream",
     "text": [
      "  gname  sex  fold\n",
      "0    承憲    1     9\n",
      "1    均平    1     7\n",
      "2    思安    0     6\n",
      "3    佑誠    1     3\n",
      "4    乃馨    0     0\n"
     ]
    }
   ],
   "source": [
    "import numpy as np\n",
    "import pandas as pd\n",
    "import pickle\n",
    "from sklearn import preprocessing\n",
    "\n",
    "df = pd.read_csv('./ds/namesex_data_v2.csv', sep=',')\n",
    "print(df.head())"
   ]
  },
  {
   "cell_type": "markdown",
   "metadata": {},
   "source": [
    "2. Split the dataset into training, validation, stack, and test."
   ]
  },
  {
   "cell_type": "code",
   "execution_count": 139,
   "metadata": {},
   "outputs": [
    {
     "name": "stdout",
     "output_type": "stream",
     "text": [
      "x_train: (7483,), y_train: (7483,)\n",
      "x_valid: (1110,), y_valid: (1110,)\n",
      "x_stack: (1064,), y_stack: (1073,)\n",
      "x_train: (7483,), y_train: (7483,)\n"
     ]
    }
   ],
   "source": [
    "# split by fold value\n",
    "train = df[df['fold'] <= 6]\n",
    "valid = df[df['fold'] == 7]\n",
    "stack = df[df['fold'] == 8]\n",
    "test = df[df['fold'] == 9]\n",
    "    \n",
    "train = train.reset_index()\n",
    "valid = valid.reset_index()\n",
    "stack = stack.reset_index()\n",
    "test = test.reset_index()\n",
    "\n",
    "# split x, y\n",
    "x_train = train['gname']\n",
    "y_train = train['sex'].to_numpy()\n",
    "x_valid = valid['gname']\n",
    "y_valid = valid['sex'].to_numpy()\n",
    "x_stack = stack['gname']\n",
    "y_stack = stack['sex'].to_numpy()\n",
    "x_test = test['gname']\n",
    "y_test = test['sex'].to_numpy()\n",
    "\n",
    "print(f'x_train: {x_train.shape}, y_train: {y_train.shape}')\n",
    "print(f'x_valid: {x_valid.shape}, y_valid: {y_valid.shape}')\n",
    "print(f'x_stack: {x_test.shape}, y_stack: {y_stack.shape}')\n",
    "print(f'x_train: {x_train.shape}, y_train: {y_train.shape}')"
   ]
  },
  {
   "cell_type": "markdown",
   "metadata": {},
   "source": [
    "3. Apply one-hot encoding."
   ]
  },
  {
   "cell_type": "code",
   "execution_count": 156,
   "metadata": {},
   "outputs": [
    {
     "name": "stdout",
     "output_type": "stream",
     "text": [
      "1629\n"
     ]
    }
   ],
   "source": [
    "feature = list()\n",
    "for name in list(x_train.to_numpy()):\n",
    "    if len(name) > 1:\n",
    "        feature += list(name)\n",
    "    feature.append(name)\n",
    "feature_set = set(feature) - set(' ')\n",
    "feature_count = dict((f, feature.count(f)) for f in feature_set)\n",
    "feature_count = dict(filter(lambda pair: pair[1] >= 2, feature_count.items()))\n",
    "feature = list(feature_count.keys())\n",
    "print(len(feature))"
   ]
  },
  {
   "cell_type": "code",
   "execution_count": null,
   "metadata": {},
   "outputs": [],
   "source": []
  }
 ],
 "metadata": {
  "kernelspec": {
   "display_name": "Python 3",
   "language": "python",
   "name": "python3"
  },
  "language_info": {
   "codemirror_mode": {
    "name": "ipython",
    "version": 3
   },
   "file_extension": ".py",
   "mimetype": "text/x-python",
   "name": "python",
   "nbconvert_exporter": "python",
   "pygments_lexer": "ipython3",
   "version": "3.8.6"
  }
 },
 "nbformat": 4,
 "nbformat_minor": 4
}
