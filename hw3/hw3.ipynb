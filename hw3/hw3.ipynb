{
 "cells": [
  {
   "cell_type": "markdown",
   "metadata": {},
   "source": [
    "# Statistical Learning and Deep Learning HW3\n",
    "\n"
   ]
  },
  {
   "cell_type": "markdown",
   "metadata": {},
   "source": [
    "### Q1\n",
    "\n",
    "#### Q1.1\n",
    "\n",
    "First, read the dataset."
   ]
  },
  {
   "cell_type": "code",
   "execution_count": 3,
   "metadata": {},
   "outputs": [
    {
     "name": "stdout",
     "output_type": "stream",
     "text": [
      "      gname  sex  fold\n",
      "0        承憲    1     9\n",
      "1        均平    1     7\n",
      "2        思安    0     6\n",
      "3        佑誠    1     3\n",
      "4        乃馨    0     0\n",
      "...     ...  ...   ...\n",
      "10725    嘉銘    1     3\n",
      "10726    佳芸    0     8\n",
      "10727    又華    0     3\n",
      "10728    子晉    1     0\n",
      "10729    芸靜    0     2\n",
      "\n",
      "[10730 rows x 3 columns]\n"
     ]
    }
   ],
   "source": [
    "import numpy as np\n",
    "import pandas as pd\n",
    "import pickle\n",
    "from sklearn import preprocessing\n",
    "\n",
    "df = pd.read_csv('./ds/namesex_data_v2.csv', sep=',')\n",
    "print(df)"
   ]
  },
  {
   "cell_type": "code",
   "execution_count": null,
   "metadata": {},
   "outputs": [],
   "source": []
  }
 ],
 "metadata": {
  "kernelspec": {
   "display_name": "Python 3",
   "language": "python",
   "name": "python3"
  },
  "language_info": {
   "codemirror_mode": {
    "name": "ipython",
    "version": 3
   },
   "file_extension": ".py",
   "mimetype": "text/x-python",
   "name": "python",
   "nbconvert_exporter": "python",
   "pygments_lexer": "ipython3",
   "version": "3.8.6"
  }
 },
 "nbformat": 4,
 "nbformat_minor": 4
}
