{
 "cells": [
  {
   "cell_type": "markdown",
   "metadata": {},
   "source": [
    "# Statistical Learning and Deep Learning HW3\n",
    "\n"
   ]
  },
  {
   "cell_type": "markdown",
   "metadata": {},
   "source": [
    "### Q1\n",
    "\n",
    "#### Q1.1\n",
    "\n",
    "1. Read the dataset."
   ]
  },
  {
   "cell_type": "code",
   "execution_count": 1,
   "metadata": {},
   "outputs": [
    {
     "name": "stdout",
     "output_type": "stream",
     "text": [
      "  gname  sex  fold\n",
      "0    承憲    1     9\n",
      "1    均平    1     7\n",
      "2    思安    0     6\n",
      "3    佑誠    1     3\n",
      "4    乃馨    0     0\n"
     ]
    }
   ],
   "source": [
    "import numpy as np\n",
    "import pandas as pd\n",
    "import pickle\n",
    "from sklearn import preprocessing\n",
    "\n",
    "df = pd.read_csv('./ds/namesex_data_v2.csv', sep=',')\n",
    "print(df.head())"
   ]
  },
  {
   "cell_type": "markdown",
   "metadata": {},
   "source": [
    "2. Split the dataset into training, validation, stack, and test."
   ]
  },
  {
   "cell_type": "code",
   "execution_count": 2,
   "metadata": {},
   "outputs": [
    {
     "name": "stdout",
     "output_type": "stream",
     "text": [
      "x_train: (7483,), y_train: (7483,)\n",
      "x_valid: (1110,), y_valid: (1110,)\n",
      "x_stack: (1073,), y_stack: (1073,)\n",
      "x_test: (1064,), y_test: (1064,)\n"
     ]
    }
   ],
   "source": [
    "# split by fold value\n",
    "train = df[df['fold'] <= 6]\n",
    "valid = df[df['fold'] == 7]\n",
    "stack = df[df['fold'] == 8]\n",
    "test = df[df['fold'] == 9]\n",
    "    \n",
    "train = train.reset_index()\n",
    "valid = valid.reset_index()\n",
    "stack = stack.reset_index()\n",
    "test = test.reset_index()\n",
    "\n",
    "# split x, y\n",
    "x_train = train['gname']\n",
    "y_train = train['sex'].to_numpy()\n",
    "x_valid = valid['gname']\n",
    "y_valid = valid['sex'].to_numpy()\n",
    "x_stack = stack['gname']\n",
    "y_stack = stack['sex'].to_numpy()\n",
    "x_test = test['gname']\n",
    "y_test = test['sex'].to_numpy()\n",
    "\n",
    "print(f'x_train: {x_train.shape}, y_train: {y_train.shape}')\n",
    "print(f'x_valid: {x_valid.shape}, y_valid: {y_valid.shape}')\n",
    "print(f'x_stack: {x_stack.shape}, y_stack: {y_stack.shape}')\n",
    "print(f'x_test: {x_test.shape}, y_test: {y_test.shape}')"
   ]
  },
  {
   "cell_type": "markdown",
   "metadata": {},
   "source": [
    "3. Apply one-hot encoding."
   ]
  },
  {
   "cell_type": "code",
   "execution_count": 3,
   "metadata": {},
   "outputs": [
    {
     "name": "stdout",
     "output_type": "stream",
     "text": [
      "# of feature: 1630\n"
     ]
    }
   ],
   "source": [
    "feature = list()\n",
    "for name in list(x_train.to_numpy()):\n",
    "    if len(name) > 1:\n",
    "        feature += list(name)\n",
    "    feature.append(name)\n",
    "feature_set = set(feature) - set(' ')\n",
    "feature_count = dict((f, feature.count(f)) for f in feature_set)\n",
    "feature_count = dict(filter(lambda pair: pair[1] >= 2, feature_count.items()))\n",
    "feature = list(feature_count.keys())\n",
    "feature.append('_Other_Feature_')\n",
    "print(f'# of feature: {len(feature)}')"
   ]
  },
  {
   "cell_type": "code",
   "execution_count": 4,
   "metadata": {},
   "outputs": [
    {
     "name": "stdout",
     "output_type": "stream",
     "text": [
      "x_train: (7483, 1630), y_train: (7483,)\n",
      "x_valid: (1110, 1630), y_valid: (1110,)\n",
      "x_stack: (1073, 1630), y_stack: (1073,)\n",
      "x_test: (1064, 1630), y_test: (1064,)\n"
     ]
    }
   ],
   "source": [
    "def oneHot(df):\n",
    "    one_hot = pd.DataFrame(0, index=np.arange(df.shape[0]), columns=feature)\n",
    "    for idx in range(df.shape[0]):\n",
    "        # create feature list\n",
    "        f_list = list(df[idx])\n",
    "        if len(df[idx]) > 1:\n",
    "            f_list.append(df[idx])\n",
    "        cnt = 0\n",
    "        # label\n",
    "        for f in f_list:\n",
    "            if f in feature:\n",
    "                one_hot[f][idx] = 1\n",
    "                cnt += 1\n",
    "        # label other feature\n",
    "        if cnt < len(f_list):\n",
    "            one_hot['_Other_Feature_'][idx] = 1\n",
    "    return one_hot, one_hot.columns\n",
    "\n",
    "x_train, x_train_col = oneHot(x_train)\n",
    "x_valid, x_valid_col = oneHot(x_valid)\n",
    "x_stack, x_stack_col = oneHot(x_stack)\n",
    "x_test, x_test_col = oneHot(x_test)\n",
    "\n",
    "print(f'x_train: {x_train.shape}, y_train: {y_train.shape}')\n",
    "print(f'x_valid: {x_valid.shape}, y_valid: {y_valid.shape}')\n",
    "print(f'x_stack: {x_stack.shape}, y_stack: {y_stack.shape}')\n",
    "print(f'x_test: {x_test.shape}, y_test: {y_test.shape}')"
   ]
  },
  {
   "cell_type": "markdown",
   "metadata": {},
   "source": [
    "#### Q1.2\n",
    "\n"
   ]
  },
  {
   "cell_type": "code",
   "execution_count": 5,
   "metadata": {},
   "outputs": [
    {
     "name": "stdout",
     "output_type": "stream",
     "text": [
      "tune c from [1.00000000e-04 2.33572147e-04 5.45559478e-04 1.27427499e-03\n",
      " 2.97635144e-03 6.95192796e-03 1.62377674e-02 3.79269019e-02\n",
      " 8.85866790e-02 2.06913808e-01 4.83293024e-01 1.12883789e+00\n",
      " 2.63665090e+00 6.15848211e+00 1.43844989e+01 3.35981829e+01\n",
      " 7.84759970e+01 1.83298071e+02 4.28133240e+02 1.00000000e+03]\n",
      "c: 0.0001, f1 score: 0.0\n",
      "c: 0.00023357214690901214, f1 score: 0.0\n",
      "c: 0.000545559478116852, f1 score: 0.007532956685499058\n",
      "c: 0.0012742749857031334, f1 score: 0.3879699248120301\n",
      "c: 0.002976351441631319, f1 score: 0.7491785323110624\n",
      "c: 0.0069519279617756054, f1 score: 0.8430232558139534\n",
      "c: 0.01623776739188721, f1 score: 0.8638941398865785\n",
      "c: 0.0379269019073225, f1 score: 0.876763875823142\n",
      "c: 0.08858667904100823, f1 score: 0.887841658812441\n",
      "c: 0.2069138081114788, f1 score: 0.8895184135977338\n",
      "c: 0.4832930238571752, f1 score: 0.8932955618508026\n",
      "c: 1.1288378916846884, f1 score: 0.8945386064030133\n",
      "c: 2.6366508987303554, f1 score: 0.8953817153628653\n",
      "c: 6.1584821106602545, f1 score: 0.8930936613055818\n",
      "c: 14.38449888287663, f1 score: 0.8972667295004714\n",
      "c: 33.59818286283781, f1 score: 0.8962264150943396\n",
      "c: 78.47599703514607, f1 score: 0.8981132075471698\n",
      "c: 183.29807108324337, f1 score: 0.8962264150943396\n",
      "c: 428.1332398719387, f1 score: 0.8960302457466919\n",
      "c: 1000.0, f1 score: 0.8968779564806055\n",
      "best c: 78.47599703514607\n",
      "best f1: 0.8981132075471698\n"
     ]
    }
   ],
   "source": [
    "from sklearn.linear_model import LogisticRegression\n",
    "from sklearn.metrics import recall_score, precision_score, f1_score, accuracy_score\n",
    "\n",
    "# tune coefficient c\n",
    "c_coef = np.geomspace(0.0001, 1000, num=20)\n",
    "print(f'tune c from {c_coef}')\n",
    "\n",
    "best_c = 0.0001\n",
    "best_f1 = -np.inf\n",
    "for c in c_coef:\n",
    "    clf = LogisticRegression(C=c, max_iter=1000).fit(x_train, y_train)\n",
    "    y_pred = clf.predict(x_valid)\n",
    "    f1 = f1_score(y_valid, y_pred)\n",
    "    print(f'c: {c}, f1 score: {f1}')\n",
    "    \n",
    "    if f1 > best_f1:\n",
    "        best_c = c\n",
    "        best_f1 = f1\n",
    "print(f'best c: {best_c}')\n",
    "print(f'best f1: {best_f1}')"
   ]
  },
  {
   "cell_type": "code",
   "execution_count": 6,
   "metadata": {},
   "outputs": [
    {
     "name": "stdout",
     "output_type": "stream",
     "text": [
      "test accuracy: 0.8843984962406015\n",
      "test precision: 0.8596837944664032\n",
      "test recall: 0.893223819301848\n",
      "test f1_score: 0.8761329305135951\n"
     ]
    }
   ],
   "source": [
    "# train\n",
    "x_train_valid = np.concatenate((x_train, x_valid), axis=0)\n",
    "y_train_valid = np.concatenate((y_train, y_valid), axis=0)\n",
    "clf_log = LogisticRegression(C=best_c, max_iter=1000).fit(x_train_valid, y_train_valid)\n",
    "y_pred = clf_log.predict(x_test)\n",
    "print(f'test accuracy: {accuracy_score(y_test, y_pred)}')\n",
    "print(f'test precision: {precision_score(y_test, y_pred)}')\n",
    "print(f'test recall: {recall_score(y_test, y_pred)}')\n",
    "print(f'test f1_score: {f1_score(y_test, y_pred)}')"
   ]
  },
  {
   "cell_type": "code",
   "execution_count": 7,
   "metadata": {},
   "outputs": [
    {
     "name": "stdout",
     "output_type": "stream",
     "text": [
      "20 features with max absolute coefficient:\n",
      "蓉 -7.5942162930202\n",
      "松 7.608294885526651\n",
      "靜 -7.6519143233262765\n",
      "卉 -7.808083457250313\n",
      "絃 -7.841816159659198\n",
      "嵐 -7.880203977123571\n",
      "潔 -8.029886865729008\n",
      "綾 -8.130090566174225\n",
      "婕 -8.14749925578164\n",
      "妤 -8.164416288312571\n",
      "鋒 8.211084144120642\n",
      "薇 -8.212371925903277\n",
      "萱 -8.28458707512602\n",
      "美 -8.313903559289411\n",
      "婷 -8.387863938831076\n",
      "凌 -8.442735688873352\n",
      "雯 -8.474067339078648\n",
      "玲 -8.63132275844053\n",
      "森 8.691386405478989\n",
      "傑 9.268250666442409\n"
     ]
    }
   ],
   "source": [
    "coef = clf_log.coef_[0]\n",
    "abs_coef = np.abs(coef)\n",
    "max20 = abs_coef.argsort()[-20:]\n",
    "print('20 features with max absolute coefficient:')\n",
    "for idx in max20:\n",
    "    print(x_test_col[idx], coef[idx])"
   ]
  },
  {
   "cell_type": "markdown",
   "metadata": {},
   "source": [
    "Accuracy, precision, recall, f1_score are all above 0.8. The prediction performs well.\n",
    "\n",
    "As for the features, we can see that words often seen in boys' names have positive coefficients, while those often seen in girls' names have negative coefficients."
   ]
  },
  {
   "cell_type": "markdown",
   "metadata": {},
   "source": [
    "#### Q1.3"
   ]
  },
  {
   "cell_type": "code",
   "execution_count": 8,
   "metadata": {},
   "outputs": [
    {
     "name": "stdout",
     "output_type": "stream",
     "text": [
      "tune n_estimators from [   5    9   16   29   52   94  170  308  555 1000]\n",
      "n_estimators: 5, f1 score: 0.8528015194681862\n",
      "n_estimators: 9, f1 score: 0.8666666666666667\n",
      "n_estimators: 16, f1 score: 0.8618357487922705\n",
      "n_estimators: 29, f1 score: 0.867816091954023\n",
      "n_estimators: 52, f1 score: 0.8606870229007634\n",
      "n_estimators: 94, f1 score: 0.8618357487922705\n",
      "n_estimators: 170, f1 score: 0.8694817658349328\n",
      "n_estimators: 308, f1 score: 0.8604206500956023\n",
      "n_estimators: 555, f1 score: 0.8673076923076922\n",
      "n_estimators: 1000, f1 score: 0.8653846153846154\n",
      "best n_estimators: 5\n",
      "best f1: 0.8694817658349328\n"
     ]
    }
   ],
   "source": [
    "from sklearn.ensemble import RandomForestClassifier\n",
    "\n",
    "# tune coefficient c\n",
    "n_estimators_coef = np.geomspace(5, 1000, num=10). astype(int)\n",
    "print(f'tune n_estimators from {n_estimators_coef}')\n",
    "\n",
    "best_n_estimators = 5\n",
    "best_f1 = -np.inf\n",
    "for n_est in n_estimators_coef:\n",
    "    clf = RandomForestClassifier(n_estimators=n_est).fit(x_train, y_train)\n",
    "    y_pred = clf.predict(x_valid)\n",
    "    f1 = f1_score(y_valid, y_pred)\n",
    "    print(f'n_estimators: {n_est}, f1 score: {f1}')\n",
    "    \n",
    "    if f1 > best_f1:\n",
    "        best_c = c\n",
    "        best_f1 = f1\n",
    "print(f'best n_estimators: {best_n_estimators}')\n",
    "print(f'best f1: {best_f1}')"
   ]
  },
  {
   "cell_type": "code",
   "execution_count": 9,
   "metadata": {},
   "outputs": [
    {
     "name": "stdout",
     "output_type": "stream",
     "text": [
      "test accuracy: 0.8204887218045113\n",
      "test precision: 0.7924901185770751\n",
      "test recall: 0.8234086242299795\n",
      "test f1_score: 0.8076535750251762\n"
     ]
    }
   ],
   "source": [
    "# train\n",
    "clf_randf = RandomForestClassifier(n_estimators=best_n_estimators).fit(x_train_valid, y_train_valid)\n",
    "y_pred = clf_randf.predict(x_test)\n",
    "print(f'test accuracy: {accuracy_score(y_test, y_pred)}')\n",
    "print(f'test precision: {precision_score(y_test, y_pred)}')\n",
    "print(f'test recall: {recall_score(y_test, y_pred)}')\n",
    "print(f'test f1_score: {f1_score(y_test, y_pred)}')"
   ]
  },
  {
   "cell_type": "code",
   "execution_count": 10,
   "metadata": {},
   "outputs": [
    {
     "name": "stdout",
     "output_type": "stream",
     "text": [
      "20 features with max absolute coefficient:\n",
      "翰 0.008074627065930299\n",
      "晴 0.008169650803155066\n",
      "柔 0.008216259271366795\n",
      "哲 0.008295568236742806\n",
      "芸 0.00835907112117001\n",
      "心 0.008420945891063566\n",
      "慈 0.008503364538537657\n",
      "佳 0.00855155795897566\n",
      "_Other_Feature_ 0.008631541391973998\n",
      "芷 0.008661924522415428\n",
      "庭 0.008764603378112547\n",
      "雅 0.00891694392430923\n",
      "承 0.009053493379566985\n",
      "蓁 0.009359105414781459\n",
      "怡 0.010542656942151602\n",
      "婷 0.013649445862693954\n",
      "萱 0.014016582532748808\n",
      "翔 0.01413261829872876\n",
      "柏 0.014500300227694015\n",
      "妤 0.019112038838368303\n"
     ]
    }
   ],
   "source": [
    "importance = clf_randf.feature_importances_\n",
    "max20 = importance.argsort()[-20:]\n",
    "print('20 features with max absolute coefficient:')\n",
    "for idx in max20:\n",
    "    print(x_test_col[idx], importance[idx])"
   ]
  },
  {
   "cell_type": "markdown",
   "metadata": {},
   "source": [
    "The accuracy, precision, recall, and f1-scores are all above 0.8. The prediction performs well.\n",
    "\n",
    "However, when it comes to the feature importance, it is not as intuitive as that of logistic regression. According to the official documentaion, \"impurity-based feature importances can be misleading for high cardinality features (many unique values)\"."
   ]
  },
  {
   "cell_type": "markdown",
   "metadata": {},
   "source": [
    "#### Q1.4"
   ]
  },
  {
   "cell_type": "code",
   "execution_count": 11,
   "metadata": {},
   "outputs": [
    {
     "name": "stdout",
     "output_type": "stream",
     "text": [
      "finish fitting lr = 0.1\n",
      "finish fitting lr = 0.5\n",
      "finish fitting lr = 1\n",
      "lr = 0.1: best stage = 1002, best_f1_score = 0.9050279329608938\n",
      "lr = 0.5: best stage = 209, best_f1_score = 0.9004651162790698\n",
      "lr = 1: best stage = 198, best_f1_score = 0.8962264150943396\n"
     ]
    },
    {
     "data": {
      "image/png": "[encoded data removed]",
      "text/plain": [
       "<Figure size 432x288 with 1 Axes>"
      ]
     },
     "metadata": {
      "needs_background": "light"
     },
     "output_type": "display_data"
    }
   ],
   "source": [
    "from sklearn.ensemble import GradientBoostingClassifier\n",
    "from matplotlib import pyplot as plt\n",
    "\n",
    "# tune learning rate and n_estimator\n",
    "all_lr = [0.1, 0.5, 1]\n",
    "n_estimator = 1500\n",
    "\n",
    "best_stage = []\n",
    "best_f1 = []\n",
    "\n",
    "for lr in all_lr:\n",
    "    clf = GradientBoostingClassifier(n_estimators=n_estimator, learning_rate=lr).fit(x_train, y_train)\n",
    "    print(f'finish fitting lr = {lr}')\n",
    "    stages = list(range(n_estimator))\n",
    "    f1_scores = [0] * n_estimator\n",
    "    idx = 0\n",
    "    for stage, y_pred in enumerate(clf.staged_predict(x_valid)):\n",
    "        f1_scores[idx] = f1_score(y_valid, y_pred)\n",
    "        idx += 1\n",
    "    stages = np.array(stages)\n",
    "    f1_scores = np.array(f1_scores)\n",
    "    best_idx = np.argmax(f1_scores)\n",
    "    best_stage.append(stages[best_idx])\n",
    "    best_f1.append(f1_scores[best_idx])\n",
    "    plt.plot(stages, f1_scores, label=f'lr={lr}')\n",
    "\n",
    "for i in range(len(all_lr)):\n",
    "    print(f'lr = {all_lr[i]}: best stage = {best_stage[i]}, best_f1_score = {best_f1[i]}')\n",
    "plt.title('Gradient Boosting Classifier')\n",
    "plt.xlabel('stage')\n",
    "plt.ylabel('f1_score')    \n",
    "plt.legend()\n",
    "plt.show()"
   ]
  },
  {
   "cell_type": "code",
   "execution_count": 12,
   "metadata": {},
   "outputs": [
    {
     "name": "stdout",
     "output_type": "stream",
     "text": [
      "best lr = 0.1, best_nstg = 1002\n"
     ]
    }
   ],
   "source": [
    "# train\n",
    "best_f1 = np.array(best_f1)\n",
    "best_idx = np.argmax(best_f1)\n",
    "best_lr = all_lr[best_idx]\n",
    "best_nstg = best_stage[best_idx]\n",
    "print(f'best lr = {best_lr}, best_nstg = {best_nstg}')"
   ]
  },
  {
   "cell_type": "code",
   "execution_count": 13,
   "metadata": {},
   "outputs": [
    {
     "name": "stdout",
     "output_type": "stream",
     "text": [
      "test accuracy: 0.8665413533834586\n",
      "test precision: 0.822429906542056\n",
      "test recall: 0.9034907597535934\n",
      "test f1_score: 0.8610567514677103\n"
     ]
    }
   ],
   "source": [
    "clf_gbdt = GradientBoostingClassifier(n_estimators=best_nstg, learning_rate=best_lr).fit(x_train_valid, y_train_valid)\n",
    "y_pred = clf_gbdt.predict(x_test)\n",
    "print(f'test accuracy: {accuracy_score(y_test, y_pred)}')\n",
    "print(f'test precision: {precision_score(y_test, y_pred)}')\n",
    "print(f'test recall: {recall_score(y_test, y_pred)}')\n",
    "print(f'test f1_score: {f1_score(y_test, y_pred)}')"
   ]
  },
  {
   "cell_type": "code",
   "execution_count": 14,
   "metadata": {},
   "outputs": [
    {
     "name": "stdout",
     "output_type": "stream",
     "text": [
      "20 features with max absolute coefficient:\n",
      "庭 0.010108165751030268\n",
      "慈 0.010148662080156226\n",
      "瑄 0.010457835251262015\n",
      "芷 0.010797252370754051\n",
      "涵 0.011112311838953073\n",
      "芸 0.011177614770121419\n",
      "宜 0.011331339834406597\n",
      "佳 0.011367081977882802\n",
      "柔 0.011610906994878045\n",
      "晴 0.011839408369194903\n",
      "雅 0.012133938145565442\n",
      "怡 0.01283586337557443\n",
      "蓁 0.012839459689449965\n",
      "承 0.012896883990426896\n",
      "哲 0.012957391865331246\n",
      "婷 0.01912972802235605\n",
      "柏 0.019957782960591277\n",
      "萱 0.020348411944513006\n",
      "翔 0.02291578885362541\n",
      "妤 0.030017040223587508\n"
     ]
    }
   ],
   "source": [
    "importance = clf_gbdt.feature_importances_\n",
    "max20 = importance.argsort()[-20:]\n",
    "print('20 features with max absolute coefficient:')\n",
    "for idx in max20:\n",
    "    print(x_test_col[idx], importance[idx])"
   ]
  },
  {
   "cell_type": "markdown",
   "metadata": {},
   "source": [
    "The accuracy, precision, recall, and f1-scores are all above 0.8. The prediction performs better than random forest.\n",
    "\n",
    "The top 20 important features seems reasonable."
   ]
  },
  {
   "cell_type": "markdown",
   "metadata": {},
   "source": [
    "#### Q1.5"
   ]
  },
  {
   "cell_type": "code",
   "execution_count": 28,
   "metadata": {},
   "outputs": [
    {
     "name": "stdout",
     "output_type": "stream",
     "text": [
      "(1073, 1) (1073, 1) (1073, 1)\n",
      "x_stack_meta shape = (1073, 3)\n"
     ]
    }
   ],
   "source": [
    "# get probability from base learners\n",
    "prob_logitic = clf_log.predict_proba(x_stack)[:, 1].reshape((-1, 1))\n",
    "prob_rand_forest = clf_randf.predict_proba(x_stack)[:, 1].reshape((-1, 1))\n",
    "prob_gbdt = clf_gbdt.predict_proba(x_stack)[:, 1].reshape((-1, 1))\n",
    "print(prob_logitic.shape, prob_rand_forest.shape, prob_gbdt.shape)\n",
    "x_stack_meta = np.concatenate((prob_logitic, prob_rand_forest, prob_gbdt), axis=1)\n",
    "print(f'x_stack_meta shape = {x_stack_meta.shape}')"
   ]
  },
  {
   "cell_type": "code",
   "execution_count": 33,
   "metadata": {},
   "outputs": [
    {
     "name": "stdout",
     "output_type": "stream",
     "text": [
      "x_test_meta shape = (1064, 3)\n",
      "test accuracy: 0.8834586466165414\n",
      "test precision: 0.8579881656804734\n",
      "test recall: 0.893223819301848\n",
      "test f1_score: 0.8752515090543259\n"
     ]
    }
   ],
   "source": [
    "# meta learner\n",
    "clf_meta = LogisticRegression(penalty='none').fit(x_stack_meta, y_stack)\n",
    "test_prob_logitic = clf_log.predict_proba(x_test)[:, 1].reshape((-1, 1))\n",
    "test_prob_rand_forest = clf_randf.predict_proba(x_test)[:, 1].reshape((-1, 1))\n",
    "test_prob_gbdt = clf_gbdt.predict_proba(x_test)[:, 1].reshape((-1, 1))\n",
    "x_test_meta = np.concatenate((test_prob_logitic, test_prob_rand_forest, test_prob_gbdt), axis=1)\n",
    "print(f'x_test_meta shape = {x_test_meta.shape}')\n",
    "\n",
    "y_pred = clf_meta.predict(x_test_meta)\n",
    "\n",
    "print(f'test accuracy: {accuracy_score(y_test, y_pred)}')\n",
    "print(f'test precision: {precision_score(y_test, y_pred)}')\n",
    "print(f'test recall: {recall_score(y_test, y_pred)}')\n",
    "print(f'test f1_score: {f1_score(y_test, y_pred)}')"
   ]
  },
  {
   "cell_type": "code",
   "execution_count": 35,
   "metadata": {},
   "outputs": [
    {
     "name": "stdout",
     "output_type": "stream",
     "text": [
      "[[ 3.03596275 -0.39242928  5.50754097]]\n"
     ]
    }
   ],
   "source": [
    "# coefficient\n",
    "meta_coef = clf_meta.coef_\n",
    "print(meta_coef)"
   ]
  },
  {
   "cell_type": "markdown",
   "metadata": {},
   "source": [
    "The coefficient for probability from the logistic regression model, the random forest model, and the gradient boosting decision tree model are 3.036, -0.392, and 5.508, respectively.\n",
    "\n",
    "Note that the coefficient for probability from the gradient boosting decision tree is the largest. Meanwhile, it is the model that predicts the most accurately when standing alone."
   ]
  },
  {
   "cell_type": "markdown",
   "metadata": {},
   "source": [
    "### Q2"
   ]
  },
  {
   "cell_type": "code",
   "execution_count": null,
   "metadata": {},
   "outputs": [],
   "source": [
    "%matplotlib inline\n",
    "import numpy as np\n",
    "import pandas as pd\n",
    "\n",
    "stu_adm = pd.read_csv('ds/student_admission106.csv', encoding=\"utf-8\", dtype=str)\n",
    "uname = pd.read_csv('ds/univ_name106short1.csv', encoding=\"utf-8\", dtype=str)\n",
    "\n",
    "all_depid = stu_adm['department_id'].unique()\n",
    "all_stuid = stu_adm['student_id'].unique()\n",
    "\n",
    "ndepid = all_depid.shape[0]\n",
    "nstuid = all_stuid.shape[0]\n",
    "print(\"In raw data, there are %d students and %d departments in total.\" % (nstuid, ndepid))\n",
    "\n",
    "#construct the department-student matrix (i.e. array). \n",
    "dep_stu = np.zeros((ndepid, nstuid))\n",
    "rowname = all_depid.copy()\n",
    "\n",
    "depid_seq_map = dict()\n",
    "for i in range(ndepid):\n",
    "    depid_seq_map[all_depid[i]] = i\n",
    "\n",
    "stuid_seq_map = dict()\n",
    "for i in range(nstuid):\n",
    "    stuid_seq_map[all_stuid[i]] = i\n",
    "\n",
    "for cindex, row in stu_adm.iterrows():\n",
    "    #print(cindex, row)\n",
    "    dep_seq = depid_seq_map[row['department_id']]\n",
    "    stu_seq = stuid_seq_map[row['student_id']]\n",
    "    #print(dep_seq, stu_seq)\n",
    "    dep_stu[dep_seq, stu_seq] = 1\n",
    "\n",
    "# Remove very small departments.\n",
    "min_stu_per_dep = 10\n",
    "min_apply_dep_per_stu = 2\n",
    "\n",
    "# remove small departments and single-application students. \n",
    "dep_apply_sum = np.sum(dep_stu, axis = 1)\n",
    "keeprow = dep_apply_sum >= min_stu_per_dep\n",
    "rowname = rowname[keeprow]\n",
    "dep_stu2 = dep_stu[keeprow,:]\n",
    "stu_apply_sum = np.sum(dep_stu2, axis = 0)\n",
    "dep_stu2 = dep_stu2[:, stu_apply_sum >= min_apply_dep_per_stu]\n",
    "\n",
    "# another run of filtering\n",
    "dep_apply_sum = np.sum(dep_stu2, axis = 1)\n",
    "dep_stu2 = dep_stu2[dep_apply_sum >= min_stu_per_dep,:]\n",
    "rowname = rowname[dep_apply_sum >= min_stu_per_dep]\n",
    "stu_apply_sum = np.sum(dep_stu2, axis = 0)\n",
    "dep_stu2 = dep_stu2[:, stu_apply_sum >= min_apply_dep_per_stu]\n",
    "\n",
    "# third run of filtering\n",
    "dep_apply_sum = np.sum(dep_stu2, axis = 1)\n",
    "dep_stu2 = dep_stu2[dep_apply_sum >= min_stu_per_dep,:]\n",
    "rowname = rowname[dep_apply_sum >= min_stu_per_dep]\n",
    "\n",
    "stu_apply_sum = np.sum(dep_stu2, axis = 0)\n",
    "dep_stu2 = dep_stu2[:, stu_apply_sum >= min_apply_dep_per_stu]\n",
    "\n",
    "# check to make sure the two conditions are satisfied. \n",
    "dep_apply_sum = np.sum(dep_stu2, axis = 1)\n",
    "print(\"Number of department too small:\", np.sum(dep_apply_sum < min_stu_per_dep))\n",
    "stu_apply_sum = np.sum(dep_stu2, axis = 0)\n",
    "print(\"Number of students applying only one department:\", np.sum(stu_apply_sum <min_apply_dep_per_stu))\n",
    "\n",
    "# now both conditions are satisfied.\n",
    "\n",
    "uname['depname'] = uname.school_name_abbr + uname.department_name_abbr\n",
    "uname2 = uname[['department_id', 'depname', 'category_name']].copy()\n",
    "# this is for later use, to color data points. \n",
    "category_id, category_levels = pd.factorize(uname2.category_name)\n",
    "#uname2['category_id'] = category_id / np.max(category_id)\n",
    "uname2['category_id'] = category_id\n",
    "\n",
    "# create a data frame for column name\n",
    "colname_df = pd.DataFrame({'department_id': rowname})\n",
    "colname_df = colname_df.merge(uname2, how = \"left\", on=\"department_id\")"
   ]
  }
 ],
 "metadata": {
  "kernelspec": {
   "display_name": "Python 3",
   "language": "python",
   "name": "python3"
  },
  "language_info": {
   "codemirror_mode": {
    "name": "ipython",
    "version": 3
   },
   "file_extension": ".py",
   "mimetype": "text/x-python",
   "name": "python",
   "nbconvert_exporter": "python",
   "pygments_lexer": "ipython3",
   "version": "3.8.6"
  }
 },
 "nbformat": 4,
 "nbformat_minor": 4
}
