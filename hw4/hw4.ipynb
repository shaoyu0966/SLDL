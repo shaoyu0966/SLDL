{
 "cells": [
  {
   "cell_type": "markdown",
   "metadata": {},
   "source": [
    "## Statistical Learning and Deep Learning HW4"
   ]
  },
  {
   "cell_type": "markdown",
   "metadata": {},
   "source": [
    "Load dataset."
   ]
  },
  {
   "cell_type": "code",
   "execution_count": 1,
   "metadata": {},
   "outputs": [
    {
     "name": "stdout",
     "output_type": "stream",
     "text": [
      "X_train shape =  (463715, 90)\n",
      "X_subtrain shape =  (417344, 90)\n",
      "X_valid shape =  (46371, 90)\n",
      "\n",
      "Y_train shape =  (463715,)\n",
      "Y_subtrain shape =  (417344,)\n",
      "Y_valid shape =  (46371,)\n",
      "\n",
      "X_test shape =  (51630, 90)\n",
      "Y_test shape =  (51630,)\n"
     ]
    }
   ],
   "source": [
    "# load packages\n",
    "import pickle\n",
    "from sklearn import preprocessing\n",
    "%matplotlib inline\n",
    "\n",
    "# load data\n",
    "with open('msd_full.pickle', 'rb') as fh1:\n",
    "    msd_data = pickle.load(fh1)\n",
    "\n",
    "doscaling = 1\n",
    "if doscaling == 1:\n",
    "    xscaler = preprocessing.StandardScaler().fit(msd_data['X_train'])\n",
    "    # standardize feature values\n",
    "    X_train = xscaler.transform(msd_data['X_train'])\n",
    "    X_test = xscaler.transform(msd_data['X_test'])\n",
    "else:\n",
    "    X_train = msd_data['X_train']\n",
    "    X_test = msd_data['X_test']\n",
    "\n",
    "Y_train = msd_data['Y_train']\n",
    "Y_test = msd_data['Y_test'].astype('float32')\n",
    "X_test = X_test.astype('float32')\n",
    "\n",
    "y_mean = Y_train.mean()\n",
    "Y_train_keep = Y_train.copy()\n",
    "Y_test_keep = Y_test.copy()\n",
    "Y_train = Y_train - y_mean\n",
    "Y_test = Y_test - y_mean\n",
    "\n",
    "\n",
    "# validation is the last 10% of training, subtraining is the first 90% of training\n",
    "nvalid = int(X_train.shape[0] * 0.1)\n",
    "nsubtrain = X_train.shape[0] - nvalid\n",
    "\n",
    "X_subtrain = X_train[0:nsubtrain, :].astype('float32')\n",
    "X_valid = X_train[nsubtrain:, :].astype('float32')\n",
    "Y_subtrain = Y_train[0:nsubtrain].astype('float32')\n",
    "Y_valid = Y_train[nsubtrain:].astype('float32')\n",
    "\n",
    "Y_subtrain_keep = Y_train_keep[0:nsubtrain].astype('float32')\n",
    "Y_valid_keep = Y_train_keep[nsubtrain:].astype('float32')\n",
    "\n",
    "print(\"X_train shape = \", X_train.shape)\n",
    "print(\"X_subtrain shape = \", X_subtrain.shape)\n",
    "print(\"X_valid shape = \", X_valid.shape)\n",
    "print()\n",
    "print(\"Y_train shape = \", Y_train.shape)\n",
    "print(\"Y_subtrain shape = \", Y_subtrain.shape)\n",
    "print(\"Y_valid shape = \", Y_valid.shape)\n",
    "print()\n",
    "print(\"X_test shape = \", X_test.shape)\n",
    "print(\"Y_test shape = \", Y_test.shape)"
   ]
  },
  {
   "cell_type": "markdown",
   "metadata": {},
   "source": [
    "### Q1. Oridinary Least Square (OLS)"
   ]
  },
  {
   "cell_type": "code",
   "execution_count": 2,
   "metadata": {},
   "outputs": [],
   "source": [
    "import statsmodels.api as sm\n",
    "from sklearn.metrics import mean_squared_error\n",
    "\n",
    "ols = sm.OLS(Y_train, X_train, hasconst=True)\n",
    "ols_result = ols.fit()"
   ]
  },
  {
   "cell_type": "code",
   "execution_count": 3,
   "metadata": {},
   "outputs": [
    {
     "name": "stdout",
     "output_type": "stream",
     "text": [
      "The first 5 parameters: [ 5.30975265 -2.88088114 -1.53234348  0.05737583 -0.33952889]\n"
     ]
    }
   ],
   "source": [
    "print(f'The first 5 parameters: {ols_result.params[:5]}')"
   ]
  },
  {
   "cell_type": "code",
   "execution_count": 4,
   "metadata": {},
   "outputs": [
    {
     "name": "stdout",
     "output_type": "stream",
     "text": [
      "The predicted Y is [-5.81070695  0.03250657  5.13960445 ... -1.39829429 -0.26047668\n",
      "  0.05193056]\n"
     ]
    }
   ],
   "source": [
    "# predict\n",
    "Y_predict = ols_result.predict(X_test)\n",
    "print(f'The predicted Y is {Y_predict}')"
   ]
  },
  {
   "cell_type": "code",
   "execution_count": 5,
   "metadata": {},
   "outputs": [
    {
     "name": "stdout",
     "output_type": "stream",
     "text": [
      "RMSE = 9.510160684544402\n"
     ]
    }
   ],
   "source": [
    "# RMSE\n",
    "print(f'RMSE = {mean_squared_error(Y_test, Y_predict, squared=False)}')"
   ]
  },
  {
   "cell_type": "markdown",
   "metadata": {},
   "source": [
    "### Q2. MLP with Four Hidden Layers"
   ]
  },
  {
   "cell_type": "code",
   "execution_count": 32,
   "metadata": {},
   "outputs": [
    {
     "name": "stdout",
     "output_type": "stream",
     "text": [
      "torch version: 1.7.1rc2\n",
      "using cuda\n",
      "0\n"
     ]
    }
   ],
   "source": [
    "import numpy as np\n",
    "import torch\n",
    "from torch.utils import data\n",
    "import os\n",
    "from sklearn.metrics import mean_squared_error\n",
    "\n",
    "print('torch version:', torch.__version__)\n",
    "os.environ['CUDA_VISIBLE_DEVICES'] = '1'\n",
    "device = 'cuda' if torch.cuda.is_available() else 'cpu'\n",
    "print(f'using {device}')\n",
    "print(torch.cuda.current_device())"
   ]
  },
  {
   "cell_type": "code",
   "execution_count": 33,
   "metadata": {},
   "outputs": [],
   "source": [
    "# define dataset\n",
    "class Dataset(data.Dataset):\n",
    "    \n",
    "  def __init__(self, Xnp, Ynp):\n",
    "        self.labels = Ynp\n",
    "        self.nobs = Xnp.shape[0]        \n",
    "        self.Xnp = Xnp\n",
    "        self.Ynp = Ynp\n",
    "        \n",
    "  def __len__(self):\n",
    "        return self.nobs\n",
    "    \n",
    "  def __getitem__(self, index):     \n",
    "        X = self.Xnp[index]\n",
    "        y = self.Ynp[index]\n",
    "        return X, y"
   ]
  },
  {
   "cell_type": "code",
   "execution_count": 34,
   "metadata": {},
   "outputs": [
    {
     "name": "stdout",
     "output_type": "stream",
     "text": [
      "subtrain length 417344\n",
      "valid length 46371\n",
      "test length 51630\n"
     ]
    }
   ],
   "source": [
    "# create dataloader\n",
    "subtrain_set = Dataset(X_subtrain, Y_subtrain)    \n",
    "valid_set = Dataset(X_valid, Y_valid)\n",
    "test_set = Dataset(X_test, Y_test)\n",
    "print('subtrain length', len(subtrain_set))\n",
    "print('valid length', len(valid_set))\n",
    "print('test length', len(test_set))\n",
    "\n",
    "batch_size = 1000\n",
    "subtrain_loader = data.DataLoader(subtrain_set, batch_size=batch_size)\n",
    "valid_loader = data.DataLoader(valid_set, batch_size=batch_size)\n",
    "test_loader = data.DataLoader(test_set, batch_size=batch_size)"
   ]
  },
  {
   "cell_type": "code",
   "execution_count": 35,
   "metadata": {},
   "outputs": [],
   "source": [
    "# train\n",
    "\n",
    "def RMSE(model, data_loader):\n",
    "    n_obs = 0\n",
    "    sse = 0\n",
    "    with torch.no_grad():\n",
    "        for _batch, (_inputs, _targets) in enumerate(data_loader):\n",
    "            _targets = _targets.reshape((-1, 1))\n",
    "            _inputs, _targets = _inputs.to(device), _targets.to(device)\n",
    "            _outputs = model(_inputs)\n",
    "            n_obs += _targets.shape[0]\n",
    "            sse += (_targets - _outputs).pow(2).sum(0)\n",
    "    return np.sqrt(sse.cpu().numpy()[0] / n_obs)\n",
    "\n",
    "    \n",
    "def train(model, optim, loss_f, max_epoch, max_step, valid_interval, weight_path, train_rmse):\n",
    "    \n",
    "    step_count = 0\n",
    "    best_step_count = 0\n",
    "    best_valid_rmse = np.inf\n",
    "    all_train_rmse = []\n",
    "    all_valid_rmse = []\n",
    "    all_step = []\n",
    "\n",
    "    for epoch in range(1, max_epoch+1):\n",
    "        for batch, (inputs, targets) in enumerate(subtrain_loader):\n",
    "\n",
    "            targets = targets.reshape((-1, 1))\n",
    "            inputs, targets = inputs.to(device), targets.to(device)\n",
    "            model.to(device)\n",
    "            model.train()\n",
    "            optim.zero_grad()\n",
    "            outputs = model(inputs)\n",
    "            loss = loss_f(outputs, targets)\n",
    "            loss.backward()\n",
    "            optim.step()\n",
    "            step_count += 1\n",
    "\n",
    "            # check train/validation RMSE\n",
    "            if (step_count % valid_interval == 0):\n",
    "\n",
    "                # subtrain, validation RMSE\n",
    "                if train_rmse:\n",
    "                    train_rmse = RMSE(model, subtrain_loader)\n",
    "                    all_train_rmse.append(train_rmse)\n",
    "                valid_rmse = RMSE(model, valid_loader)\n",
    "                all_valid_rmse.append(valid_rmse)\n",
    "                all_step.append(step_count)\n",
    "\n",
    "                # update weight\n",
    "                if valid_rmse < best_valid_rmse:\n",
    "                    best_step_count = step_count\n",
    "                    best_valid_rmse = valid_rmse\n",
    "                    torch.save(model, weight_path)\n",
    "\n",
    "                # early stopping\n",
    "                elif (step_count - best_step_count >= max_step):\n",
    "                    print(f'early stopping, step {step_count}, validation RMSE = {valid_rmse}')\n",
    "                    return all_step, all_train_rmse, all_valid_rmse\n",
    "                \n",
    "        print(f'Epoch {epoch}, Step {step_count}: Loss = {loss.item()}, best_valid_rmse = {best_valid_rmse}')\n",
    "    return all_step, all_train_rmse, all_valid_rmse"
   ]
  },
  {
   "cell_type": "code",
   "execution_count": 36,
   "metadata": {},
   "outputs": [
    {
     "name": "stdout",
     "output_type": "stream",
     "text": [
      "Epoch 1, Step 418: Loss = 34781.6796875, best_valid_rmse = 8.860106849822154\n",
      "Epoch 2, Step 836: Loss = 34487.375, best_valid_rmse = 8.702837418786082\n",
      "Epoch 3, Step 1254: Loss = 33778.6796875, best_valid_rmse = 8.702837418786082\n",
      "Epoch 4, Step 1672: Loss = 33408.859375, best_valid_rmse = 8.626972306832297\n",
      "Epoch 5, Step 2090: Loss = 32994.0, best_valid_rmse = 8.608287438525126\n",
      "Epoch 6, Step 2508: Loss = 32655.318359375, best_valid_rmse = 8.608287438525126\n",
      "Epoch 7, Step 2926: Loss = 32260.447265625, best_valid_rmse = 8.608287438525126\n",
      "Epoch 8, Step 3344: Loss = 32052.34375, best_valid_rmse = 8.608287438525126\n",
      "Epoch 9, Step 3762: Loss = 31624.125, best_valid_rmse = 8.595136536786487\n",
      "Epoch 10, Step 4180: Loss = 31520.8671875, best_valid_rmse = 8.595136536786487\n",
      "Epoch 11, Step 4598: Loss = 31148.158203125, best_valid_rmse = 8.595136536786487\n",
      "Epoch 12, Step 5016: Loss = 30616.66796875, best_valid_rmse = 8.58854097998283\n",
      "Epoch 13, Step 5434: Loss = 30132.236328125, best_valid_rmse = 8.58854097998283\n",
      "Epoch 14, Step 5852: Loss = 30368.201171875, best_valid_rmse = 8.58854097998283\n",
      "Epoch 15, Step 6270: Loss = 30318.123046875, best_valid_rmse = 8.58854097998283\n",
      "Epoch 16, Step 6688: Loss = 30577.990234375, best_valid_rmse = 8.58854097998283\n",
      "Epoch 17, Step 7106: Loss = 30212.94140625, best_valid_rmse = 8.58854097998283\n",
      "Epoch 18, Step 7524: Loss = 29704.03125, best_valid_rmse = 8.58854097998283\n",
      "Epoch 19, Step 7942: Loss = 30184.068359375, best_valid_rmse = 8.58854097998283\n",
      "Epoch 20, Step 8360: Loss = 29752.216796875, best_valid_rmse = 8.58854097998283\n",
      "Epoch 21, Step 8778: Loss = 30467.375, best_valid_rmse = 8.58854097998283\n",
      "Epoch 22, Step 9196: Loss = 30488.29296875, best_valid_rmse = 8.58854097998283\n",
      "Epoch 23, Step 9614: Loss = 30287.21484375, best_valid_rmse = 8.58854097998283\n",
      "early stopping, step 9800, validation RMSE = 8.642755923300916\n"
     ]
    }
   ],
   "source": [
    "# create MLP model\n",
    "d_hidden = 45\n",
    "d_input = subtrain_set.Xnp.shape[1]\n",
    "d_output = 1\n",
    "\n",
    "mlp = torch.nn.Sequential(\n",
    "    torch.nn.Linear(d_input, d_hidden),\n",
    "    torch.nn.ReLU(),\n",
    "    torch.nn.Linear(d_hidden, d_hidden),\n",
    "    torch.nn.ReLU(),\n",
    "    torch.nn.Linear(d_hidden, d_hidden),\n",
    "    torch.nn.ReLU(),\n",
    "    torch.nn.Linear(d_hidden, d_hidden),\n",
    "    torch.nn.ReLU(),\n",
    "    torch.nn.Linear(d_hidden, d_output)\n",
    ")\n",
    "mlp = mlp.float()\n",
    "mlp.to(device)\n",
    "weight_path = './MLP45_weight'\n",
    "\n",
    "# optimizer\n",
    "lr = 0.00001\n",
    "momentum = 0\n",
    "weight_decay = 0\n",
    "sgd_optimizer = torch.optim.SGD(mlp.parameters(), lr=lr, momentum=momentum, weight_decay=weight_decay)\n",
    "\n",
    "# loss\n",
    "l2_loss = torch.nn.MSELoss(reduction='sum')\n",
    "\n",
    "# train\n",
    "all_step, all_train_rmse, all_valid_rmse = train(model=mlp, optim=sgd_optimizer, loss_f=l2_loss, max_epoch=100, max_step=5000, valid_interval=100, weight_path=weight_path, train_rmse=True)        \n"
   ]
  },
  {
   "cell_type": "code",
   "execution_count": 37,
   "metadata": {},
   "outputs": [
    {
     "data": {
      "text/plain": [
       "Text(0.5, 1.0, 'H=45, Training & Validation RMSE')"
      ]
     },
     "execution_count": 37,
     "metadata": {},
     "output_type": "execute_result"
    },
    {
     "data": {
      "image/png": "[encoded data removed]",
      "text/plain": [
       "<Figure size 432x288 with 1 Axes>"
      ]
     },
     "metadata": {
      "needs_background": "light"
     },
     "output_type": "display_data"
    }
   ],
   "source": [
    "import matplotlib.pyplot as plt\n",
    "\n",
    "# plot subtrain / validation RMSE\n",
    "plt.plot(all_step, all_train_rmse, c='b', label='Training RMSE')\n",
    "plt.plot(all_step, all_valid_rmse, c='r', label='Validation RMSE')\n",
    "plt.legend()\n",
    "plt.xlabel('Batch')\n",
    "plt.ylabel('RMSE')\n",
    "plt.title('H=45, Training & Validation RMSE')"
   ]
  },
  {
   "cell_type": "markdown",
   "metadata": {},
   "source": [
    "From the figure above, we can see that both training RMSE and validation RMSE reduce but fluctuate through the training process. While the two curves are quite close in the beginning, training RMSE turns out to be lower than training RMSE."
   ]
  },
  {
   "cell_type": "code",
   "execution_count": 38,
   "metadata": {},
   "outputs": [
    {
     "name": "stdout",
     "output_type": "stream",
     "text": [
      "Test RMSE = 8.81752794992918\n"
     ]
    }
   ],
   "source": [
    "# test RMSE\n",
    "saved_mlp = torch.load(weight_path)\n",
    "test_rmse = RMSE(saved_mlp, test_loader)\n",
    "print(f'Test RMSE = {test_rmse}')"
   ]
  },
  {
   "cell_type": "markdown",
   "metadata": {},
   "source": [
    "### Q3. H = 90, 180"
   ]
  },
  {
   "cell_type": "code",
   "execution_count": 39,
   "metadata": {},
   "outputs": [
    {
     "name": "stdout",
     "output_type": "stream",
     "text": [
      "Epoch 1, Step 418: Loss = 34292.0390625, best_valid_rmse = 8.85406946891178\n",
      "Epoch 2, Step 836: Loss = 34249.2734375, best_valid_rmse = 8.661730250864041\n",
      "Epoch 3, Step 1254: Loss = 33584.23828125, best_valid_rmse = 8.649656074930018\n",
      "Epoch 4, Step 1672: Loss = 32857.33984375, best_valid_rmse = 8.564246667189845\n",
      "Epoch 5, Step 2090: Loss = 33378.23828125, best_valid_rmse = 8.55240647979954\n",
      "Epoch 6, Step 2508: Loss = 33139.3671875, best_valid_rmse = 8.55240647979954\n",
      "Epoch 7, Step 2926: Loss = 33039.8984375, best_valid_rmse = 8.55240647979954\n",
      "Epoch 8, Step 3344: Loss = 32810.48828125, best_valid_rmse = 8.546891047297116\n",
      "Epoch 9, Step 3762: Loss = 32451.1171875, best_valid_rmse = 8.545656500458556\n",
      "Epoch 10, Step 4180: Loss = 31947.486328125, best_valid_rmse = 8.545656500458556\n",
      "Epoch 11, Step 4598: Loss = 32043.06640625, best_valid_rmse = 8.545656500458556\n",
      "Epoch 12, Step 5016: Loss = 32329.486328125, best_valid_rmse = 8.536736220813307\n",
      "Epoch 13, Step 5434: Loss = 31705.66796875, best_valid_rmse = 8.536736220813307\n",
      "Epoch 14, Step 5852: Loss = 32062.45703125, best_valid_rmse = 8.536736220813307\n",
      "Epoch 15, Step 6270: Loss = 31781.09765625, best_valid_rmse = 8.536736220813307\n",
      "Epoch 16, Step 6688: Loss = 31522.81640625, best_valid_rmse = 8.536736220813307\n",
      "Epoch 17, Step 7106: Loss = 31959.69921875, best_valid_rmse = 8.536736220813307\n",
      "Epoch 18, Step 7524: Loss = 31046.20703125, best_valid_rmse = 8.536736220813307\n",
      "Epoch 19, Step 7942: Loss = 31700.37109375, best_valid_rmse = 8.536736220813307\n",
      "Epoch 20, Step 8360: Loss = 30570.01953125, best_valid_rmse = 8.536736220813307\n",
      "Epoch 21, Step 8778: Loss = 31394.265625, best_valid_rmse = 8.536736220813307\n",
      "Epoch 22, Step 9196: Loss = 29675.375, best_valid_rmse = 8.536736220813307\n",
      "Epoch 23, Step 9614: Loss = 30354.79296875, best_valid_rmse = 8.536736220813307\n",
      "early stopping, step 9900, validation RMSE = 8.75676554617334\n",
      "H = 90, Test RMSE = 8.860631098247412\n",
      "\n",
      "Epoch 1, Step 418: Loss = 34501.203125, best_valid_rmse = 8.84999890651015\n",
      "Epoch 2, Step 836: Loss = 33452.8984375, best_valid_rmse = 8.648373235546385\n",
      "Epoch 3, Step 1254: Loss = 32545.3671875, best_valid_rmse = 8.630367537813406\n",
      "Epoch 4, Step 1672: Loss = 31982.466796875, best_valid_rmse = 8.559116492053315\n",
      "Epoch 5, Step 2090: Loss = 31083.265625, best_valid_rmse = 8.556053419511262\n",
      "Epoch 6, Step 2508: Loss = 29799.720703125, best_valid_rmse = 8.556053419511262\n",
      "Epoch 7, Step 2926: Loss = 28477.59765625, best_valid_rmse = 8.545586472273095\n",
      "Epoch 8, Step 3344: Loss = 27817.69140625, best_valid_rmse = 8.544721482228605\n",
      "Epoch 9, Step 3762: Loss = 27541.93359375, best_valid_rmse = 8.544721482228605\n",
      "Epoch 10, Step 4180: Loss = 27153.5859375, best_valid_rmse = 8.544721482228605\n",
      "Epoch 11, Step 4598: Loss = 26591.79296875, best_valid_rmse = 8.544721482228605\n",
      "Epoch 12, Step 5016: Loss = 26032.138671875, best_valid_rmse = 8.544721482228605\n",
      "Epoch 13, Step 5434: Loss = 26218.671875, best_valid_rmse = 8.544721482228605\n",
      "Epoch 14, Step 5852: Loss = 24881.8515625, best_valid_rmse = 8.544721482228605\n",
      "Epoch 15, Step 6270: Loss = 25841.146484375, best_valid_rmse = 8.544721482228605\n",
      "Epoch 16, Step 6688: Loss = 26036.13671875, best_valid_rmse = 8.544721482228605\n",
      "Epoch 17, Step 7106: Loss = 25551.857421875, best_valid_rmse = 8.544721482228605\n",
      "Epoch 18, Step 7524: Loss = 24820.12109375, best_valid_rmse = 8.544721482228605\n",
      "Epoch 19, Step 7942: Loss = 24021.015625, best_valid_rmse = 8.544721482228605\n",
      "early stopping, step 8100, validation RMSE = 8.945516534637175\n",
      "H = 180, Test RMSE = 8.872126198439592\n",
      "\n"
     ]
    }
   ],
   "source": [
    "for d_hidden in [90, 180]:\n",
    "    \n",
    "    d_input = subtrain_set.Xnp.shape[1]\n",
    "    d_output = 1\n",
    "\n",
    "    mlp = torch.nn.Sequential(\n",
    "        torch.nn.Linear(d_input, d_hidden),\n",
    "        torch.nn.ReLU(),\n",
    "        torch.nn.Linear(d_hidden, d_hidden),\n",
    "        torch.nn.ReLU(),\n",
    "        torch.nn.Linear(d_hidden, d_hidden),\n",
    "        torch.nn.ReLU(),\n",
    "        torch.nn.Linear(d_hidden, d_hidden),\n",
    "        torch.nn.ReLU(),\n",
    "        torch.nn.Linear(d_hidden, d_output)\n",
    "    )\n",
    "    \n",
    "    # optimizer\n",
    "    lr = 0.00001\n",
    "    momentum = 0\n",
    "    weight_decay = 0\n",
    "    sgd_optimizer = torch.optim.SGD(mlp.parameters(), lr=lr, momentum=momentum, weight_decay=weight_decay)\n",
    "\n",
    "    # loss\n",
    "    l2_loss = torch.nn.MSELoss(reduction='sum')\n",
    "    \n",
    "    mlp = mlp.float()\n",
    "    mlp.to(device)\n",
    "    weight_path = f'./MLP{d_hidden}_weight'\n",
    "    all_step, all_train_rmse, all_valid_rmse = train(model=mlp, optim=sgd_optimizer, loss_f=l2_loss, max_epoch=100, max_step=5000, valid_interval=100, weight_path=weight_path, train_rmse=False)\n",
    "    saved_mlp = torch.load(weight_path)\n",
    "    test_rmse = RMSE(saved_mlp, test_loader)\n",
    "    print(f'H = {d_hidden}, Test RMSE = {test_rmse}\\n')"
   ]
  },
  {
   "cell_type": "markdown",
   "metadata": {},
   "source": [
    "(hidden dimension = 45: test RMSE = 8.818)  \n",
    "**hidden dimension = 90: test RMSE = 8.861**  \n",
    "**hidden dimension = 180: test RMSE = 8.872**"
   ]
  },
  {
   "cell_type": "markdown",
   "metadata": {},
   "source": [
    "With test RMSE shown above, we suggest that providing 45 hidden nodes in the linear hidden layers performs the best. Larger number of hidden nodes may lead to overfitting."
   ]
  },
  {
   "cell_type": "markdown",
   "metadata": {},
   "source": [
    "### Q4 MLP with Weight Decay"
   ]
  },
  {
   "cell_type": "code",
   "execution_count": 40,
   "metadata": {},
   "outputs": [
    {
     "name": "stdout",
     "output_type": "stream",
     "text": [
      "Epoch 1, Step 418: Loss = 35281.1640625, best_valid_rmse = 8.888397008954936\n",
      "Epoch 2, Step 836: Loss = 34135.1484375, best_valid_rmse = 8.716717432365973\n",
      "Epoch 3, Step 1254: Loss = 33117.171875, best_valid_rmse = 8.691299866210302\n",
      "Epoch 4, Step 1672: Loss = 33125.21875, best_valid_rmse = 8.612813086657857\n",
      "Epoch 5, Step 2090: Loss = 32945.1796875, best_valid_rmse = 8.60795299215972\n",
      "Epoch 6, Step 2508: Loss = 32488.421875, best_valid_rmse = 8.60795299215972\n",
      "Epoch 7, Step 2926: Loss = 32628.716796875, best_valid_rmse = 8.60795299215972\n",
      "Epoch 8, Step 3344: Loss = 32436.42578125, best_valid_rmse = 8.584916005229564\n",
      "Epoch 9, Step 3762: Loss = 32297.05078125, best_valid_rmse = 8.584916005229564\n",
      "Epoch 10, Step 4180: Loss = 32064.0703125, best_valid_rmse = 8.584916005229564\n",
      "Epoch 11, Step 4598: Loss = 31965.109375, best_valid_rmse = 8.58380689106744\n",
      "Epoch 12, Step 5016: Loss = 32306.587890625, best_valid_rmse = 8.573213785314081\n",
      "Epoch 13, Step 5434: Loss = 31907.21875, best_valid_rmse = 8.573213785314081\n",
      "Epoch 14, Step 5852: Loss = 31487.775390625, best_valid_rmse = 8.573213785314081\n",
      "Epoch 15, Step 6270: Loss = 31460.3671875, best_valid_rmse = 8.573213785314081\n",
      "Epoch 16, Step 6688: Loss = 31387.234375, best_valid_rmse = 8.573213785314081\n",
      "Epoch 17, Step 7106: Loss = 31523.421875, best_valid_rmse = 8.573213785314081\n",
      "Epoch 18, Step 7524: Loss = 31080.01953125, best_valid_rmse = 8.573213785314081\n",
      "Epoch 19, Step 7942: Loss = 31384.23828125, best_valid_rmse = 8.573213785314081\n",
      "Epoch 20, Step 8360: Loss = 30830.12109375, best_valid_rmse = 8.573213785314081\n",
      "Epoch 21, Step 8778: Loss = 30419.37890625, best_valid_rmse = 8.573213785314081\n",
      "Epoch 22, Step 9196: Loss = 30353.529296875, best_valid_rmse = 8.573213785314081\n",
      "Epoch 23, Step 9614: Loss = 29791.41796875, best_valid_rmse = 8.573213785314081\n",
      "early stopping, step 9800, validation RMSE = 8.62300930599503\n",
      "H = 45 Weight decay = 0.1, Test RMSE = 8.83822501314132\n",
      "\n",
      "Epoch 1, Step 418: Loss = 34652.04296875, best_valid_rmse = 8.89516328275268\n",
      "Epoch 2, Step 836: Loss = 33891.2578125, best_valid_rmse = 8.68900038284376\n",
      "Epoch 3, Step 1254: Loss = 33539.02734375, best_valid_rmse = 8.669048153862422\n",
      "Epoch 4, Step 1672: Loss = 33504.9453125, best_valid_rmse = 8.621985130497496\n",
      "Epoch 5, Step 2090: Loss = 33461.125, best_valid_rmse = 8.594139151194984\n",
      "Epoch 6, Step 2508: Loss = 33079.13671875, best_valid_rmse = 8.594139151194984\n",
      "Epoch 7, Step 2926: Loss = 32666.28515625, best_valid_rmse = 8.594139151194984\n",
      "Epoch 8, Step 3344: Loss = 32371.765625, best_valid_rmse = 8.568488845754853\n",
      "Epoch 9, Step 3762: Loss = 31956.53515625, best_valid_rmse = 8.568488845754853\n",
      "Epoch 10, Step 4180: Loss = 31829.310546875, best_valid_rmse = 8.568488845754853\n",
      "Epoch 11, Step 4598: Loss = 32127.1640625, best_valid_rmse = 8.568488845754853\n",
      "Epoch 12, Step 5016: Loss = 31351.703125, best_valid_rmse = 8.568488845754853\n",
      "Epoch 13, Step 5434: Loss = 31231.7421875, best_valid_rmse = 8.568488845754853\n",
      "Epoch 14, Step 5852: Loss = 31151.849609375, best_valid_rmse = 8.568488845754853\n",
      "Epoch 15, Step 6270: Loss = 31328.74609375, best_valid_rmse = 8.568488845754853\n",
      "Epoch 16, Step 6688: Loss = 31229.6015625, best_valid_rmse = 8.568488845754853\n",
      "Epoch 17, Step 7106: Loss = 31493.87109375, best_valid_rmse = 8.568488845754853\n",
      "Epoch 18, Step 7524: Loss = 30915.43359375, best_valid_rmse = 8.568488845754853\n",
      "Epoch 19, Step 7942: Loss = 30716.609375, best_valid_rmse = 8.568488845754853\n",
      "early stopping, step 8100, validation RMSE = 8.61041562843686\n",
      "H = 45 Weight decay = 0.2, Test RMSE = 8.824812711211084\n",
      "\n",
      "Epoch 1, Step 418: Loss = 34833.25, best_valid_rmse = 8.946924891294167\n",
      "Epoch 2, Step 836: Loss = 33630.0703125, best_valid_rmse = 8.699136431904444\n",
      "Epoch 3, Step 1254: Loss = 33753.8828125, best_valid_rmse = 8.675780430233559\n",
      "Epoch 4, Step 1672: Loss = 33442.49609375, best_valid_rmse = 8.605196759515424\n",
      "Epoch 5, Step 2090: Loss = 32983.51953125, best_valid_rmse = 8.601792533477223\n",
      "Epoch 6, Step 2508: Loss = 32471.76171875, best_valid_rmse = 8.601792533477223\n",
      "Epoch 7, Step 2926: Loss = 32059.400390625, best_valid_rmse = 8.581610221092483\n",
      "Epoch 8, Step 3344: Loss = 32002.5625, best_valid_rmse = 8.581610221092483\n",
      "Epoch 9, Step 3762: Loss = 31757.59375, best_valid_rmse = 8.581610221092483\n",
      "Epoch 10, Step 4180: Loss = 31447.81640625, best_valid_rmse = 8.581610221092483\n",
      "Epoch 11, Step 4598: Loss = 31529.630859375, best_valid_rmse = 8.581610221092483\n",
      "Epoch 12, Step 5016: Loss = 31515.994140625, best_valid_rmse = 8.564937529327553\n",
      "Epoch 13, Step 5434: Loss = 30743.150390625, best_valid_rmse = 8.564937529327553\n",
      "Epoch 14, Step 5852: Loss = 30527.51953125, best_valid_rmse = 8.564937529327553\n",
      "Epoch 15, Step 6270: Loss = 30560.37109375, best_valid_rmse = 8.564937529327553\n",
      "Epoch 16, Step 6688: Loss = 30067.59375, best_valid_rmse = 8.564937529327553\n",
      "Epoch 17, Step 7106: Loss = 30624.76953125, best_valid_rmse = 8.564937529327553\n",
      "Epoch 18, Step 7524: Loss = 29916.099609375, best_valid_rmse = 8.564937529327553\n",
      "Epoch 19, Step 7942: Loss = 30681.84375, best_valid_rmse = 8.564937529327553\n",
      "Epoch 20, Step 8360: Loss = 30345.6875, best_valid_rmse = 8.564937529327553\n",
      "Epoch 21, Step 8778: Loss = 29712.638671875, best_valid_rmse = 8.564937529327553\n",
      "Epoch 22, Step 9196: Loss = 29155.228515625, best_valid_rmse = 8.564937529327553\n",
      "Epoch 23, Step 9614: Loss = 28916.86328125, best_valid_rmse = 8.564937529327553\n",
      "early stopping, step 9800, validation RMSE = 8.63570698194179\n",
      "H = 45 Weight decay = 0.4, Test RMSE = 8.820214806401667\n",
      "\n",
      "Epoch 1, Step 418: Loss = 34665.7265625, best_valid_rmse = 8.838588491652253\n",
      "Epoch 2, Step 836: Loss = 33934.96875, best_valid_rmse = 8.668884592026316\n",
      "Epoch 3, Step 1254: Loss = 32994.12109375, best_valid_rmse = 8.643555590408655\n",
      "Epoch 4, Step 1672: Loss = 32642.716796875, best_valid_rmse = 8.568040843026758\n",
      "Epoch 5, Step 2090: Loss = 31989.50390625, best_valid_rmse = 8.555039188741771\n",
      "Epoch 6, Step 2508: Loss = 31885.193359375, best_valid_rmse = 8.555039188741771\n",
      "Epoch 7, Step 2926: Loss = 31934.734375, best_valid_rmse = 8.555039188741771\n",
      "Epoch 8, Step 3344: Loss = 31682.962890625, best_valid_rmse = 8.546229637507697\n",
      "Epoch 9, Step 3762: Loss = 32210.69140625, best_valid_rmse = 8.546229637507697\n",
      "Epoch 10, Step 4180: Loss = 32623.171875, best_valid_rmse = 8.546229637507697\n",
      "Epoch 11, Step 4598: Loss = 33326.32421875, best_valid_rmse = 8.546229637507697\n",
      "Epoch 12, Step 5016: Loss = 32886.6171875, best_valid_rmse = 8.546229637507697\n",
      "Epoch 13, Step 5434: Loss = 32752.7890625, best_valid_rmse = 8.546229637507697\n",
      "Epoch 14, Step 5852: Loss = 33671.15234375, best_valid_rmse = 8.546229637507697\n",
      "Epoch 15, Step 6270: Loss = 33703.5234375, best_valid_rmse = 8.546229637507697\n",
      "Epoch 16, Step 6688: Loss = 33304.9453125, best_valid_rmse = 8.546229637507697\n",
      "Epoch 17, Step 7106: Loss = 32194.669921875, best_valid_rmse = 8.546229637507697\n",
      "Epoch 18, Step 7524: Loss = 32026.701171875, best_valid_rmse = 8.546229637507697\n",
      "Epoch 19, Step 7942: Loss = 32105.609375, best_valid_rmse = 8.546229637507697\n",
      "early stopping, step 8200, validation RMSE = 8.637737289842983\n",
      "H = 90 Weight decay = 0.1, Test RMSE = 8.830259588952623\n",
      "\n",
      "Epoch 1, Step 418: Loss = 34504.13671875, best_valid_rmse = 8.878943980073847\n",
      "Epoch 2, Step 836: Loss = 33537.59765625, best_valid_rmse = 8.684606935215989\n",
      "Epoch 3, Step 1254: Loss = 33221.390625, best_valid_rmse = 8.66352732434561\n",
      "Epoch 4, Step 1672: Loss = 32987.07421875, best_valid_rmse = 8.597336648694936\n",
      "Epoch 5, Step 2090: Loss = 32321.55859375, best_valid_rmse = 8.557557687674839\n",
      "Epoch 6, Step 2508: Loss = 32009.373046875, best_valid_rmse = 8.557557687674839\n",
      "Epoch 7, Step 2926: Loss = 31741.05078125, best_valid_rmse = 8.554177045307929\n",
      "Epoch 8, Step 3344: Loss = 30937.046875, best_valid_rmse = 8.554177045307929\n",
      "Epoch 9, Step 3762: Loss = 30622.666015625, best_valid_rmse = 8.554177045307929\n",
      "Epoch 10, Step 4180: Loss = 30450.125, best_valid_rmse = 8.554177045307929\n",
      "Epoch 11, Step 4598: Loss = 30774.765625, best_valid_rmse = 8.554177045307929\n",
      "Epoch 12, Step 5016: Loss = 30663.97265625, best_valid_rmse = 8.554177045307929\n",
      "Epoch 13, Step 5434: Loss = 30929.328125, best_valid_rmse = 8.554177045307929\n",
      "Epoch 14, Step 5852: Loss = 29707.18359375, best_valid_rmse = 8.554177045307929\n",
      "Epoch 15, Step 6270: Loss = 29565.05859375, best_valid_rmse = 8.554177045307929\n",
      "Epoch 16, Step 6688: Loss = 28892.134765625, best_valid_rmse = 8.554177045307929\n",
      "Epoch 17, Step 7106: Loss = 28835.99609375, best_valid_rmse = 8.554177045307929\n",
      "Epoch 18, Step 7524: Loss = 29845.96484375, best_valid_rmse = 8.554177045307929\n",
      "early stopping, step 7900, validation RMSE = 8.701986510853844\n",
      "H = 90 Weight decay = 0.2, Test RMSE = 8.806515006854301\n",
      "\n",
      "Epoch 1, Step 418: Loss = 33887.9765625, best_valid_rmse = 8.880819424826747\n",
      "Epoch 2, Step 836: Loss = 33768.73828125, best_valid_rmse = 8.65769878228025\n",
      "Epoch 3, Step 1254: Loss = 33362.6796875, best_valid_rmse = 8.642042897173534\n",
      "Epoch 4, Step 1672: Loss = 33125.1640625, best_valid_rmse = 8.574096022215729\n",
      "Epoch 5, Step 2090: Loss = 31739.625, best_valid_rmse = 8.572076741708473\n",
      "Epoch 6, Step 2508: Loss = 31724.4765625, best_valid_rmse = 8.572076741708473\n",
      "Epoch 7, Step 2926: Loss = 31339.05078125, best_valid_rmse = 8.552090336357422\n",
      "Epoch 8, Step 3344: Loss = 31170.291015625, best_valid_rmse = 8.552090336357422\n",
      "Epoch 9, Step 3762: Loss = 30854.046875, best_valid_rmse = 8.552090336357422\n",
      "Epoch 10, Step 4180: Loss = 29628.35546875, best_valid_rmse = 8.552090336357422\n",
      "Epoch 11, Step 4598: Loss = 29511.423828125, best_valid_rmse = 8.552090336357422\n",
      "Epoch 12, Step 5016: Loss = 28897.13671875, best_valid_rmse = 8.552090336357422\n",
      "Epoch 13, Step 5434: Loss = 29319.689453125, best_valid_rmse = 8.552090336357422\n",
      "Epoch 14, Step 5852: Loss = 29142.591796875, best_valid_rmse = 8.552090336357422\n",
      "Epoch 15, Step 6270: Loss = 28728.6484375, best_valid_rmse = 8.552090336357422\n",
      "Epoch 16, Step 6688: Loss = 28311.82421875, best_valid_rmse = 8.552090336357422\n",
      "Epoch 17, Step 7106: Loss = 28436.919921875, best_valid_rmse = 8.552090336357422\n",
      "Epoch 18, Step 7524: Loss = 26285.404296875, best_valid_rmse = 8.552090336357422\n",
      "early stopping, step 7900, validation RMSE = 8.706037413593839\n",
      "H = 90 Weight decay = 0.4, Test RMSE = 8.78964855673536\n",
      "\n",
      "Epoch 1, Step 418: Loss = 33952.890625, best_valid_rmse = 8.836368215942537\n",
      "Epoch 2, Step 836: Loss = 33804.23828125, best_valid_rmse = 8.638770519270775\n",
      "Epoch 3, Step 1254: Loss = 33461.55078125, best_valid_rmse = 8.619162078109856\n",
      "Epoch 4, Step 1672: Loss = 32345.564453125, best_valid_rmse = 8.546173808015446\n",
      "Epoch 5, Step 2090: Loss = 32574.57421875, best_valid_rmse = 8.527533810618793\n",
      "Epoch 6, Step 2508: Loss = 32570.056640625, best_valid_rmse = 8.527533810618793\n",
      "Epoch 7, Step 2926: Loss = 32593.734375, best_valid_rmse = 8.50260740389747\n",
      "Epoch 8, Step 3344: Loss = 31461.216796875, best_valid_rmse = 8.50260740389747\n",
      "Epoch 9, Step 3762: Loss = 30866.6171875, best_valid_rmse = 8.50260740389747\n",
      "Epoch 10, Step 4180: Loss = 31852.0390625, best_valid_rmse = 8.50260740389747\n",
      "Epoch 11, Step 4598: Loss = 30283.0390625, best_valid_rmse = 8.50260740389747\n",
      "Epoch 12, Step 5016: Loss = 29799.048828125, best_valid_rmse = 8.50260740389747\n",
      "Epoch 13, Step 5434: Loss = 29246.8515625, best_valid_rmse = 8.50260740389747\n",
      "Epoch 14, Step 5852: Loss = 28277.03515625, best_valid_rmse = 8.50260740389747\n",
      "Epoch 15, Step 6270: Loss = 28948.974609375, best_valid_rmse = 8.50260740389747\n",
      "Epoch 16, Step 6688: Loss = 27906.87109375, best_valid_rmse = 8.50260740389747\n",
      "Epoch 17, Step 7106: Loss = 26483.021484375, best_valid_rmse = 8.50260740389747\n",
      "Epoch 18, Step 7524: Loss = 27660.625, best_valid_rmse = 8.50260740389747\n",
      "early stopping, step 7900, validation RMSE = 8.983138787294978\n",
      "H = 180 Weight decay = 0.1, Test RMSE = 8.801361528148746\n",
      "\n",
      "Epoch 1, Step 418: Loss = 34307.328125, best_valid_rmse = 8.824705581966883\n",
      "Epoch 2, Step 836: Loss = 33477.20703125, best_valid_rmse = 8.642813000277306\n",
      "Epoch 3, Step 1254: Loss = 33245.70703125, best_valid_rmse = 8.631846988256516\n",
      "Epoch 4, Step 1672: Loss = 32609.21875, best_valid_rmse = 8.547593404040573\n",
      "Epoch 5, Step 2090: Loss = 31998.130859375, best_valid_rmse = 8.541617901556085\n",
      "Epoch 6, Step 2508: Loss = 31282.736328125, best_valid_rmse = 8.541617901556085\n",
      "Epoch 7, Step 2926: Loss = 30571.294921875, best_valid_rmse = 8.521907068750359\n",
      "Epoch 8, Step 3344: Loss = 30419.72265625, best_valid_rmse = 8.520053231460285\n",
      "Epoch 9, Step 3762: Loss = 28918.20703125, best_valid_rmse = 8.513808589939698\n",
      "Epoch 10, Step 4180: Loss = 29335.90234375, best_valid_rmse = 8.513808589939698\n",
      "Epoch 11, Step 4598: Loss = 27722.9765625, best_valid_rmse = 8.513808589939698\n",
      "Epoch 12, Step 5016: Loss = 26318.8046875, best_valid_rmse = 8.513808589939698\n",
      "Epoch 13, Step 5434: Loss = 24702.79296875, best_valid_rmse = 8.513808589939698\n",
      "Epoch 14, Step 5852: Loss = 24295.54296875, best_valid_rmse = 8.513808589939698\n",
      "Epoch 15, Step 6270: Loss = 23154.109375, best_valid_rmse = 8.513808589939698\n",
      "Epoch 16, Step 6688: Loss = 22875.16796875, best_valid_rmse = 8.513808589939698\n",
      "Epoch 17, Step 7106: Loss = 24753.48828125, best_valid_rmse = 8.513808589939698\n",
      "Epoch 18, Step 7524: Loss = 23539.240234375, best_valid_rmse = 8.513808589939698\n",
      "Epoch 19, Step 7942: Loss = 21986.818359375, best_valid_rmse = 8.513808589939698\n",
      "Epoch 20, Step 8360: Loss = 23389.126953125, best_valid_rmse = 8.513808589939698\n",
      "early stopping, step 8500, validation RMSE = 8.708384092667458\n",
      "H = 180 Weight decay = 0.2, Test RMSE = 8.898045190505592\n",
      "\n",
      "Epoch 1, Step 418: Loss = 34404.078125, best_valid_rmse = 8.864727442941486\n",
      "Epoch 2, Step 836: Loss = 33564.3359375, best_valid_rmse = 8.64096388881595\n",
      "Epoch 3, Step 1254: Loss = 32747.55859375, best_valid_rmse = 8.613334497887566\n",
      "Epoch 4, Step 1672: Loss = 31913.4296875, best_valid_rmse = 8.568529429114566\n",
      "Epoch 5, Step 2090: Loss = 31166.75390625, best_valid_rmse = 8.526430826756439\n",
      "Epoch 6, Step 2508: Loss = 30357.27734375, best_valid_rmse = 8.526430826756439\n",
      "Epoch 7, Step 2926: Loss = 29971.8515625, best_valid_rmse = 8.513305464358822\n",
      "Epoch 8, Step 3344: Loss = 29662.41015625, best_valid_rmse = 8.513305464358822\n",
      "Epoch 9, Step 3762: Loss = 29177.38671875, best_valid_rmse = 8.513305464358822\n",
      "Epoch 10, Step 4180: Loss = 28405.1796875, best_valid_rmse = 8.513305464358822\n",
      "Epoch 11, Step 4598: Loss = 27688.7578125, best_valid_rmse = 8.513305464358822\n",
      "Epoch 12, Step 5016: Loss = 27626.34765625, best_valid_rmse = 8.513305464358822\n",
      "Epoch 13, Step 5434: Loss = 28740.87890625, best_valid_rmse = 8.513305464358822\n",
      "Epoch 14, Step 5852: Loss = 28117.3046875, best_valid_rmse = 8.513305464358822\n",
      "Epoch 15, Step 6270: Loss = 27721.49609375, best_valid_rmse = 8.513305464358822\n",
      "Epoch 16, Step 6688: Loss = 26857.1640625, best_valid_rmse = 8.513305464358822\n",
      "Epoch 17, Step 7106: Loss = 25486.61328125, best_valid_rmse = 8.513305464358822\n",
      "Epoch 18, Step 7524: Loss = 26084.63671875, best_valid_rmse = 8.513305464358822\n",
      "early stopping, step 7900, validation RMSE = 8.747310482937646\n",
      "H = 180 Weight decay = 0.4, Test RMSE = 8.821189745935532\n",
      "\n"
     ]
    }
   ],
   "source": [
    "for d_hidden in [45, 90, 180]:\n",
    "    for weight_decay in [0.1, 0.2, 0.4]:\n",
    "    \n",
    "        d_input = subtrain_set.Xnp.shape[1]\n",
    "        d_output = 1\n",
    "\n",
    "        mlp = torch.nn.Sequential(\n",
    "            torch.nn.Linear(d_input, d_hidden),\n",
    "            torch.nn.ReLU(),\n",
    "            torch.nn.Linear(d_hidden, d_hidden),\n",
    "            torch.nn.ReLU(),\n",
    "            torch.nn.Linear(d_hidden, d_hidden),\n",
    "            torch.nn.ReLU(),\n",
    "            torch.nn.Linear(d_hidden, d_hidden),\n",
    "            torch.nn.ReLU(),\n",
    "            torch.nn.Linear(d_hidden, d_output)\n",
    "        )\n",
    "\n",
    "        mlp = mlp.float()\n",
    "        mlp.to(device)\n",
    "\n",
    "        # optimizer\n",
    "        lr = 0.00001\n",
    "        momentum = 0\n",
    "        sgd_optimizer_wd = torch.optim.SGD(mlp.parameters(), lr=lr, momentum=momentum, weight_decay=weight_decay)\n",
    "\n",
    "        weight_path = f'./MLP{d_hidden}_{weight_decay*10}_weight'\n",
    "        all_step, all_train_rmse, all_valid_rmse = train(model=mlp, optim=sgd_optimizer_wd, loss_f=l2_loss, max_epoch=100, max_step=5000, valid_interval=100, weight_path=weight_path, train_rmse=False)\n",
    "        saved_mlp = torch.load(weight_path)\n",
    "        test_rmse = RMSE(saved_mlp, test_loader)\n",
    "        print(f'H = {d_hidden} Weight decay = {weight_decay}, Test RMSE = {test_rmse}\\n')"
   ]
  },
  {
   "cell_type": "markdown",
   "metadata": {},
   "source": [
    "|    Test RMSE     | H=45  | H=90  | H=180 |\n",
    "| ---------------- | ----- | ----- | ----- |\n",
    "| weight_decay=0.1 | 8.838 | 8.830 | 8.801 |\n",
    "| weight_decay=0.2 | 8.825 | 8.807 | 8.898 |\n",
    "| weight_decay=0.4 | 8.820 | 8.790 | 8.821 |"
   ]
  },
  {
   "cell_type": "markdown",
   "metadata": {},
   "source": [
    "From the table above, we can see that **H=90** with **weight_decay=0.4** leads to the lowest testing RMSE."
   ]
  },
  {
   "cell_type": "markdown",
   "metadata": {},
   "source": [
    "### Q5. MLP with Dropout"
   ]
  },
  {
   "cell_type": "code",
   "execution_count": 41,
   "metadata": {},
   "outputs": [
    {
     "name": "stdout",
     "output_type": "stream",
     "text": [
      "Epoch 1, Step 418: Loss = 37670.83984375, best_valid_rmse = 9.190845247721088\n",
      "Epoch 2, Step 836: Loss = 36741.15234375, best_valid_rmse = 9.059547600744455\n",
      "Epoch 3, Step 1254: Loss = 37460.046875, best_valid_rmse = 9.007087967281201\n",
      "Epoch 4, Step 1672: Loss = 36279.3515625, best_valid_rmse = 8.958269233047481\n",
      "Epoch 5, Step 2090: Loss = 35615.046875, best_valid_rmse = 8.931756669273494\n",
      "Epoch 6, Step 2508: Loss = 32741.505859375, best_valid_rmse = 8.90104650501457\n",
      "Epoch 7, Step 2926: Loss = 33730.34375, best_valid_rmse = 8.89246242315414\n",
      "Epoch 8, Step 3344: Loss = 33638.73828125, best_valid_rmse = 8.88887010917197\n",
      "Epoch 9, Step 3762: Loss = 34697.296875, best_valid_rmse = 8.874893027598748\n",
      "Epoch 10, Step 4180: Loss = 33732.59375, best_valid_rmse = 8.866916296584753\n",
      "Epoch 11, Step 4598: Loss = 35133.3984375, best_valid_rmse = 8.866916296584753\n",
      "Epoch 12, Step 5016: Loss = 35447.93359375, best_valid_rmse = 8.866916296584753\n",
      "Epoch 13, Step 5434: Loss = 35766.65234375, best_valid_rmse = 8.866916296584753\n",
      "Epoch 14, Step 5852: Loss = 35696.77734375, best_valid_rmse = 8.85002662445629\n",
      "Epoch 15, Step 6270: Loss = 33487.30859375, best_valid_rmse = 8.85002662445629\n",
      "Epoch 16, Step 6688: Loss = 34411.0703125, best_valid_rmse = 8.85002662445629\n",
      "Epoch 17, Step 7106: Loss = 34084.6640625, best_valid_rmse = 8.836991437974797\n",
      "Epoch 18, Step 7524: Loss = 34374.30078125, best_valid_rmse = 8.836991437974797\n",
      "Epoch 19, Step 7942: Loss = 32018.828125, best_valid_rmse = 8.836991437974797\n",
      "Epoch 20, Step 8360: Loss = 35397.69921875, best_valid_rmse = 8.826793808092585\n",
      "Epoch 21, Step 8778: Loss = 32362.1953125, best_valid_rmse = 8.821094842361573\n",
      "Epoch 22, Step 9196: Loss = 33252.06640625, best_valid_rmse = 8.821094842361573\n",
      "Epoch 23, Step 9614: Loss = 35520.85546875, best_valid_rmse = 8.821094842361573\n",
      "Epoch 24, Step 10032: Loss = 34639.4375, best_valid_rmse = 8.821094842361573\n",
      "Epoch 25, Step 10450: Loss = 34621.2109375, best_valid_rmse = 8.821094842361573\n",
      "Epoch 26, Step 10868: Loss = 33584.25, best_valid_rmse = 8.821094842361573\n",
      "Epoch 27, Step 11286: Loss = 34530.32421875, best_valid_rmse = 8.812032765459563\n",
      "Epoch 28, Step 11704: Loss = 33725.79296875, best_valid_rmse = 8.812032765459563\n",
      "Epoch 29, Step 12122: Loss = 34215.90625, best_valid_rmse = 8.812032765459563\n",
      "Epoch 30, Step 12540: Loss = 31584.65234375, best_valid_rmse = 8.812032765459563\n",
      "Epoch 31, Step 12958: Loss = 33941.15625, best_valid_rmse = 8.812032765459563\n",
      "Epoch 32, Step 13376: Loss = 35551.421875, best_valid_rmse = 8.812032765459563\n",
      "Epoch 33, Step 13794: Loss = 34245.85546875, best_valid_rmse = 8.812032765459563\n",
      "Epoch 34, Step 14212: Loss = 33826.0078125, best_valid_rmse = 8.812032765459563\n",
      "Epoch 35, Step 14630: Loss = 32057.068359375, best_valid_rmse = 8.812032765459563\n",
      "Epoch 36, Step 15048: Loss = 35484.26953125, best_valid_rmse = 8.812032765459563\n",
      "Epoch 37, Step 15466: Loss = 32366.08984375, best_valid_rmse = 8.812032765459563\n",
      "Epoch 38, Step 15884: Loss = 33141.66796875, best_valid_rmse = 8.812032765459563\n",
      "early stopping, step 16100, validation RMSE = 8.840826809249926\n"
     ]
    }
   ],
   "source": [
    "d_hidden = 90\n",
    "d_input = subtrain_set.Xnp.shape[1]\n",
    "d_output = 1\n",
    "\n",
    "mlp = torch.nn.Sequential(\n",
    "    torch.nn.Linear(d_input, d_hidden),\n",
    "    torch.nn.ReLU(),\n",
    "    torch.nn.Dropout(p=0.5),\n",
    "    \n",
    "    torch.nn.Linear(d_hidden, d_hidden),\n",
    "    torch.nn.ReLU(),\n",
    "    torch.nn.Dropout(p=0.5),\n",
    "    \n",
    "    torch.nn.Linear(d_hidden, d_hidden),\n",
    "    torch.nn.ReLU(),\n",
    "    torch.nn.Dropout(p=0.5),\n",
    "    \n",
    "    torch.nn.Linear(d_hidden, d_hidden),\n",
    "    torch.nn.ReLU(),\n",
    "    torch.nn.Dropout(p=0.5),\n",
    "    \n",
    "    torch.nn.Linear(d_hidden, d_output)\n",
    ")\n",
    "mlp = mlp.float()\n",
    "mlp.to(device)\n",
    "weight_path = './MLP90_drop_weight'\n",
    "\n",
    "# optimizer\n",
    "lr = 0.001\n",
    "momentum = 0\n",
    "weight_decay = 0\n",
    "adam_optimizer = torch.optim.Adam(mlp.parameters(), lr=lr, weight_decay=weight_decay)\n",
    "\n",
    "# loss\n",
    "l2_loss = torch.nn.MSELoss(reduction='sum')\n",
    "\n",
    "# train\n",
    "all_step, all_train_rmse, all_valid_rmse = train(model=mlp, optim=adam_optimizer, loss_f=l2_loss, max_epoch=100, max_step=5000, valid_interval=100, weight_path=weight_path, train_rmse=True)        \n"
   ]
  },
  {
   "cell_type": "code",
   "execution_count": 42,
   "metadata": {},
   "outputs": [
    {
     "data": {
      "text/plain": [
       "Text(0.5, 1.0, 'H=90 with Drop Out, Training & Validation RMSE')"
      ]
     },
     "execution_count": 42,
     "metadata": {},
     "output_type": "execute_result"
    },
    {
     "data": {
      "image/png": "[encoded data removed]",
      "text/plain": [
       "<Figure size 432x288 with 1 Axes>"
      ]
     },
     "metadata": {
      "needs_background": "light"
     },
     "output_type": "display_data"
    }
   ],
   "source": [
    "# plot subtrain / validation RMSE\n",
    "plt.plot(all_step, all_train_rmse, c='b', label='Training RMSE')\n",
    "plt.plot(all_step, all_valid_rmse, c='r', label='Validation RMSE')\n",
    "plt.legend()\n",
    "plt.xlabel('Batch')\n",
    "plt.ylabel('RMSE')\n",
    "plt.title('H=90 with Drop Out, Training & Validation RMSE')"
   ]
  },
  {
   "cell_type": "markdown",
   "metadata": {},
   "source": [
    "From the figure above, we can see that both training RMSE and validation RMSE drop dramastically in the beginning of the training process and converges afterwards. In the first half of the training process, training RMSE is larger than validation RMSE, while in the second half, training RMSE turns out to be smaller than validation RMSE."
   ]
  },
  {
   "cell_type": "code",
   "execution_count": 43,
   "metadata": {},
   "outputs": [
    {
     "name": "stdout",
     "output_type": "stream",
     "text": [
      "Test RMSE = 9.021474047833808\n"
     ]
    }
   ],
   "source": [
    "# test RMSE\n",
    "saved_mlp = torch.load(weight_path)\n",
    "test_rmse = RMSE(saved_mlp, test_loader)\n",
    "print(f'Test RMSE = {test_rmse}')"
   ]
  },
  {
   "cell_type": "code",
   "execution_count": null,
   "metadata": {},
   "outputs": [],
   "source": []
  }
 ],
 "metadata": {
  "kernelspec": {
   "display_name": "Python 3",
   "language": "python",
   "name": "python3"
  },
  "language_info": {
   "codemirror_mode": {
    "name": "ipython",
    "version": 3
   },
   "file_extension": ".py",
   "mimetype": "text/x-python",
   "name": "python",
   "nbconvert_exporter": "python",
   "pygments_lexer": "ipython3",
   "version": "3.9.0"
  }
 },
 "nbformat": 4,
 "nbformat_minor": 4
}
